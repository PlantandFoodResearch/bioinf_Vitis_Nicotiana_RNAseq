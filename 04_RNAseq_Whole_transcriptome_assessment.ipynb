{
 "cells": [
  {
   "cell_type": "code",
   "execution_count": 1,
   "metadata": {
    "collapsed": true
   },
   "outputs": [],
   "source": [
    "# Define the user as a variable\n",
    "USER=\"hradxj\"\n",
    "PROJECTNAME=\"karmun_awesome_experiment\"\n",
    "# Define the project directory and temp subdirectory as a variable\n",
    "PROJECT=\"/workspace/$USER/$PROJECTNAME\"\n"
   ]
  },
  {
   "cell_type": "code",
   "execution_count": 2,
   "metadata": {},
   "outputs": [
    {
     "name": "stdout",
     "output_type": "stream",
     "text": [
      "/workspace/hradxj/karmun_awesome_experiment\n"
     ]
    }
   ],
   "source": [
    "echo $PROJECT"
   ]
  },
  {
   "cell_type": "code",
   "execution_count": 3,
   "metadata": {},
   "outputs": [
    {
     "name": "stdout",
     "output_type": "stream",
     "text": [
      "000.raw\t\t003.fastqc_smrna  006.MIA   009.STAR\t  10genes.txt  TEMP\n",
      "001.fastqc_raw\t004.trimmomatic   007.STAR  010.edgeR_Nb  Illumina.fa\n",
      "002.SMRNA\t005.fastqc_trim   008.MBA   011.edgeR_Vv  log\n"
     ]
    }
   ],
   "source": [
    "ls $PROJECT"
   ]
  },
  {
   "cell_type": "code",
   "execution_count": 20,
   "metadata": {},
   "outputs": [
    {
     "name": "stdout",
     "output_type": "stream",
     "text": [
      "RACP005_11_S11_L002_MERGED_trimmomatic\n",
      "                          Number of input reads |\t52743066\n",
      "                   Uniquely mapped reads number |\t34750526\n",
      "                        Uniquely mapped reads % |\t65.89%\n",
      "             % of reads mapped to multiple loci |\t12.24%\n",
      "                 % of reads unmapped: too short |\t21.70%\n",
      "RACP005_12_S12_L002_MERGED_trimmomatic\n",
      "                          Number of input reads |\t4937171\n",
      "                   Uniquely mapped reads number |\t3171428\n",
      "                        Uniquely mapped reads % |\t64.24%\n",
      "             % of reads mapped to multiple loci |\t11.66%\n",
      "                 % of reads unmapped: too short |\t23.86%\n",
      "RACP005_13_S13_L002_MERGED_trimmomatic\n",
      "                          Number of input reads |\t66287239\n",
      "                   Uniquely mapped reads number |\t34817783\n",
      "                        Uniquely mapped reads % |\t52.53%\n",
      "             % of reads mapped to multiple loci |\t10.08%\n",
      "                 % of reads unmapped: too short |\t37.22%\n"
     ]
    }
   ],
   "source": [
    "SAMPLELIST=\"RACP005_11_S11_L002_MERGED_trimmomatic RACP005_12_S12_L002_MERGED_trimmomatic RACP005_13_S13_L002_MERGED_trimmomatic\"\n",
    "for SAMPLE in $SAMPLELIST\n",
    "do\n",
    "echo $SAMPLE\n",
    "cat $PROJECT/007.STAR/Two_Pass_Results/${SAMPLE}.bamLog.final.out|grep \"Number of input reads\\|Uniquely mapped\\|% of reads mapped to multiple\\| % of reads unmapped: too short\"\n",
    "done"
   ]
  },
  {
   "cell_type": "code",
   "execution_count": 21,
   "metadata": {},
   "outputs": [
    {
     "name": "stdout",
     "output_type": "stream",
     "text": [
      "RACP005_1_S8_L002_MERGED_trimmomatic\n",
      "                          Number of input reads |\t17485337\n",
      "                   Uniquely mapped reads number |\t10526268\n",
      "                        Uniquely mapped reads % |\t60.20%\n",
      "             % of reads mapped to multiple loci |\t10.96%\n",
      "                 % of reads unmapped: too short |\t28.71%\n",
      "RACP005_5_S9_L002_MERGED_trimmomatic\n",
      "                          Number of input reads |\t43292412\n",
      "                   Uniquely mapped reads number |\t29073518\n",
      "                        Uniquely mapped reads % |\t67.16%\n",
      "             % of reads mapped to multiple loci |\t6.78%\n",
      "                 % of reads unmapped: too short |\t25.89%\n",
      "RACP005_8_S10_L002_MERGED_trimmomatic\n",
      "                          Number of input reads |\t6525228\n",
      "                   Uniquely mapped reads number |\t2984738\n",
      "                        Uniquely mapped reads % |\t45.74%\n",
      "             % of reads mapped to multiple loci |\t7.89%\n",
      "                 % of reads unmapped: too short |\t46.26%\n"
     ]
    }
   ],
   "source": [
    "SAMPLELIST=\"RACP005_1_S8_L002_MERGED_trimmomatic RACP005_5_S9_L002_MERGED_trimmomatic RACP005_8_S10_L002_MERGED_trimmomatic\"\n",
    "for SAMPLE in $SAMPLELIST\n",
    "do\n",
    "echo $SAMPLE\n",
    "cat $PROJECT/009.STAR/Two_Pass_Results/${SAMPLE}.bamLog.final.out|grep \"Number of input reads\\|Uniquely mapped\\|% of reads mapped to multiple\\| % of reads unmapped: too short\"\n",
    "done"
   ]
  }
 ],
 "metadata": {
  "kernelspec": {
   "display_name": "Bash",
   "language": "bash",
   "name": "bash"
  },
  "language_info": {
   "codemirror_mode": "shell",
   "file_extension": ".sh",
   "mimetype": "text/x-sh",
   "name": "bash"
  }
 },
 "nbformat": 4,
 "nbformat_minor": 1
}
