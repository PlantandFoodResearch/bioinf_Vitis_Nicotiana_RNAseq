{
 "cells": [
  {
   "cell_type": "code",
   "execution_count": 30,
   "metadata": {},
   "outputs": [
    {
     "ename": "ERROR",
     "evalue": "Error in read.table(file = file, header = header, sep = sep, quote = quote, : duplicate 'row.names' are not allowed\n",
     "output_type": "error",
     "traceback": [
      "Error in read.table(file = file, header = header, sep = sep, quote = quote, : duplicate 'row.names' are not allowed\nTraceback:\n",
      "1. read.delim(\"/workspace/hradxj/karmun_awesome_experiment/010.edgeR_Nb/GRLaV3_Nb_EdgeR.tab\", \n .     header = TRUE, row.names = \"Gene\")",
      "2. read.table(file = file, header = header, sep = sep, quote = quote, \n .     dec = dec, fill = fill, comment.char = comment.char, ...)",
      "3. stop(\"duplicate 'row.names' are not allowed\")"
     ]
    }
   ],
   "source": [
    "GRLaV3_vs_Nb <- read.delim('/workspace/hradxj/karmun_awesome_experiment/010.edgeR_Nb/GRLaV3_Nb_EdgeR.tab',header=TRUE)"
   ]
  },
  {
   "cell_type": "markdown",
   "metadata": {},
   "source": [
    "From the [EdgeR manual](https://www.bioconductor.org/packages/devel/bioc/vignettes/edgeR/inst/doc/edgeRUsersGuide.pdf):\n",
    "> The likelihood ratio test can be useful in some special cases such as single cell RNA-seq and datasets with no replicates.\n",
    "\n",
    "Since this dataset has no replicates for one condition, we will use the likelihood ratio test."
   ]
  },
  {
   "cell_type": "code",
   "execution_count": 22,
   "metadata": {
    "collapsed": true
   },
   "outputs": [],
   "source": [
    "# Set the replicate relationship. In this case, columns 1 and 2 are biological replicates of each other.\n",
    "\n",
    "replicate_relationship <- factor(c(1,1,2))"
   ]
  },
  {
   "cell_type": "code",
   "execution_count": 18,
   "metadata": {},
   "outputs": [
    {
     "name": "stderr",
     "output_type": "stream",
     "text": [
      "Bioconductor version 3.3 (BiocInstaller 1.22.3), ?biocLite for help\n",
      "A newer version of Bioconductor is available for this version of R,\n",
      "  ?BiocUpgrade for help\n",
      "BioC_mirror: https://bioconductor.org\n",
      "Using Bioconductor 3.3 (BiocInstaller 1.22.3), R 3.3.0 (2016-05-03).\n",
      "Installing package(s) 'edgeR'\n",
      "Old packages: 'archivist', 'BDgraph', 'broom', 'car', 'checkmate', 'clipr',\n",
      "  'cowplot', 'data.table', 'dendextend', 'devtools', 'FactoMineR', 'future',\n",
      "  'ggpubr', 'globals', 'hms', 'irlba', 'Matrix', 'mclust', 'memuse', 'mosaic',\n",
      "  'mosaicCore', 'msm', 'multcomp', 'openssl', 'pracma', 'purrr', 'quantreg',\n",
      "  'Rcmdr', 'Rcpp', 'RcppEigen', 'rgdal', 'rgeos', 'rlang', 'robustbase',\n",
      "  'R.utils', 'segmented', 'spdep', 'subprocess', 'tidyr', 'tidyselect',\n",
      "  'tidyverse', 'vcd', 'vegan', 'webshot', 'withr', 'abind', 'acepack', 'ade4',\n",
      "  'adegenet', 'agricolae', 'annotate', 'AnnotationDbi', 'ape', 'archivist',\n",
      "  'arm', 'aroma.affymetrix', 'aroma.core', 'backports', 'BatchJobs', 'BBmisc',\n",
      "  'BH', 'BiocParallel', 'Biostrings', 'bookdown', 'boot', 'broom', 'BSgenome',\n",
      "  'candisc', 'car', 'checkmate', 'chemometrics', 'ChemometricsWithR', 'chron',\n",
      "  'circlize', 'clifro', 'clipr', 'cluster', 'coda', 'codetools', 'corpcor',\n",
      "  'cowplot', 'crayon', 'cubature', 'curl', 'datapack', 'data.table', 'deldir',\n",
      "  'dendextend', 'DEoptimR', 'DESeq2', 'devtools', 'doParallel', 'dplyr', 'DT',\n",
      "  'e1071', 'effects', 'ensembldb', 'expm', 'factoextra', 'FactoMineR',\n",
      "  'fastcluster', 'fastmatch', 'flexmix', 'forcats', 'foreign', 'formatR',\n",
      "  'Formula', 'futile.logger', 'future', 'gam', 'gapminder', 'gdata', 'gdtools',\n",
      "  'GenomeInfoDb', 'GenomicAlignments', 'GenomicFeatures', 'GenomicRanges',\n",
      "  'geosphere', 'getopt', 'GGally', 'ggpubr', 'ggrepel', 'ggsci', 'ggsignif',\n",
      "  'ggvis', 'git2r', 'globals', 'glue', 'gmp', 'googleVis', 'goric', 'GOstats',\n",
      "  'gridExtra', 'GSEABase', 'Gviz', 'haven', 'heplots', 'hgu95av2.db', 'Hmisc',\n",
      "  'hms', 'htmlTable', 'httpuv', 'httr', 'igraph', 'ini', 'ipred', 'IRanges',\n",
      "  'IRdisplay', 'irlba', 'KEGG.db', 'kernlab', 'knitr', 'kohonen', 'Lahman',\n",
      "  'lambda.r', 'lattice', 'lava', 'lavaan', 'lazyeval', 'leaflet', 'leaps',\n",
      "  'lme4', 'lmtest', 'LogicReg', 'logistf', 'lubridate', 'maps', 'MASS',\n",
      "  'MasterBayes', 'Matrix', 'matrixStats', 'mclust', 'MCMCglmm', 'memoise',\n",
      "  'memuse', 'mgcv', 'mice', 'mnormt', 'modelr', 'mosaic', 'mosaicData', 'msm',\n",
      "  'multcomp', 'mvtnorm', 'NADA', 'networkD3', 'nlme', 'openssl', 'openxlsx',\n",
      "  'optparse', 'packrat', 'pander', 'pbdZMQ', 'pbkrtest', 'pcaPP', 'pegas',\n",
      "  'permute', 'phangorn', 'pinfsc50', 'PKI', 'plotly', 'plotrix', 'PopGenome',\n",
      "  'pracma', 'prodlim', 'proto', 'pryr', 'PSCBS', 'psych', 'purrr', 'pwr',\n",
      "  'qgraph', 'qtl', 'quantreg', 'QuasiSeq', 'R2HTML', 'raster', 'Rcmdr',\n",
      "  'RcmdrMisc', 'Rcpp', 'RcppArmadillo', 'RcppEigen', 'Rd2roxygen', 'R.devices',\n",
      "  'readr', 'readxl', 'recipes', 'redland', 'registry', 'reldist', 'Repitools',\n",
      "  'repr', 'reshape', 'revealjs', 'R.filesets', 'rgdal', 'rgeos', 'rJava',\n",
      "  'rlang', 'rmarkdown', 'rms', 'RMySQL', 'robustbase', 'RODBC', 'RODBCext',\n",
      "  'R.oo', 'roxygen2', 'rpart', 'rrcov', 'R.rsp', 'rsconnect', 'RSelenium',\n",
      "  'RSQLite', 'rstudioapi', 'Rsubread', 'RSVGTipsDevice', 'rtracklayer',\n",
      "  'R.utils', 'rvest', 'S4Vectors', 'sandwich', 'scales', 'scatterD3', 'scrypt',\n",
      "  'segmented', 'sem', 'SeqArray', 'seqinr', 'seqminer', 'SeqVarTools', 'shiny',\n",
      "  'shinydashboard', 'shinyjs', 'sna', 'snow', 'sourcetools', 'sp', 'spam',\n",
      "  'SparseM', 'spdep', 'statmod', 'stringi', 'SummarizedExperiment',\n",
      "  'SuppDists', 'survival', 'svglite', 'TH.data', 'tibble', 'tidyr',\n",
      "  'tidyverse', 'tseries', 'V8', 'VariantAnnotation', 'vcd', 'vcfR', 'vegan',\n",
      "  'VennDiagram', 'viridis', 'viridisLite', 'webshot', 'WGCNA', 'WhopGenome',\n",
      "  'XLConnect', 'XLConnectJars', 'XML', 'xml2', 'XVector', 'yaml', 'zoo'\n",
      "Loading required package: limma\n"
     ]
    }
   ],
   "source": [
    "# Load edgeR\n",
    "source(\"https://bioconductor.org/biocLite.R\")\n",
    "biocLite(\"edgeR\")\n",
    "library(edgeR)"
   ]
  },
  {
   "cell_type": "code",
   "execution_count": 31,
   "metadata": {
    "collapsed": true
   },
   "outputs": [],
   "source": [
    "# Row names are not unique for some reason. Crap annotations again.\n",
    "# Assign unique row names using the preexisting names, but making them\n",
    "# unique where required by adding \".1, .2\" etc.\n",
    "rownames(GRLaV3_vs_Nb) <- make.names(GRLaV3_vs_Nb[,1], unique=TRUE)\n",
    "# Remove the redundant column where the row names came from\n",
    "GRLaV3_vs_Nb[,1] <- NULL"
   ]
  },
  {
   "cell_type": "code",
   "execution_count": 33,
   "metadata": {
    "collapsed": true
   },
   "outputs": [],
   "source": [
    "# set the replicate relationship.. columns 1 and 2 are reps of each other\n",
    "replicate_relationship <- factor(c(1,1,2))"
   ]
  },
  {
   "cell_type": "code",
   "execution_count": 46,
   "metadata": {
    "collapsed": true
   },
   "outputs": [],
   "source": [
    "# construct the DGEList object\n",
    "de_genes <- DGEList(counts=GRLaV3_vs_Nb,group=replicate_relationship)\n"
   ]
  },
  {
   "cell_type": "code",
   "execution_count": 47,
   "metadata": {
    "collapsed": true
   },
   "outputs": [],
   "source": [
    "# Calculate normalisation factors\n",
    "de_genes <- calcNormFactors(de_genes)\n"
   ]
  },
  {
   "cell_type": "code",
   "execution_count": 41,
   "metadata": {
    "collapsed": true
   },
   "outputs": [],
   "source": [
    "# set experiment design\n",
    "design <- model.matrix(~replicate_relationship)\n"
   ]
  },
  {
   "cell_type": "code",
   "execution_count": 42,
   "metadata": {
    "collapsed": true
   },
   "outputs": [],
   "source": [
    "# estimate dispersion\n",
    "GRLaV3_vs_Nb_DGEList <- estimateDisp(GRLaV3_vs_Nb_DGEList,GRLaV3_vs_Nb_design)"
   ]
  },
  {
   "cell_type": "code",
   "execution_count": 43,
   "metadata": {
    "collapsed": true
   },
   "outputs": [],
   "source": [
    "fit <- glmFit(GRLaV3_vs_Nb_DGEList,GRLaV3_vs_Nb_design)"
   ]
  },
  {
   "cell_type": "code",
   "execution_count": 44,
   "metadata": {
    "collapsed": true
   },
   "outputs": [],
   "source": [
    "lrt <- glmLRT(fit,coef=2)"
   ]
  },
  {
   "cell_type": "code",
   "execution_count": 53,
   "metadata": {},
   "outputs": [
    {
     "ename": "ERROR",
     "evalue": "Error in if (getOption(\"jupyter.rich_display\")) {: argument is of length zero\n",
     "output_type": "error",
     "traceback": [
      "Error in if (getOption(\"jupyter.rich_display\")) {: argument is of length zero\nTraceback:\n"
     ]
    }
   ],
   "source": [
    "topTags(lrt, n=10)"
   ]
  }
 ],
 "metadata": {
  "kernelspec": {
   "display_name": "R-3.3.0",
   "language": "R",
   "name": "ir3.3.0"
  },
  "language_info": {
   "codemirror_mode": "r",
   "file_extension": ".r",
   "mimetype": "text/x-r-source",
   "name": "R",
   "pygments_lexer": "r",
   "version": "3.3.0"
  }
 },
 "nbformat": 4,
 "nbformat_minor": 2
}
