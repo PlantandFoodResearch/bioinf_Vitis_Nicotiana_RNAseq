{
 "cells": [
  {
   "cell_type": "markdown",
   "metadata": {},
   "source": [
    "# <u>RNA-Seq Analysis Phase IIa: Alignment to Reference Genome</u>\n",
    "## This Notebook illustrates how to align paired-end RNA-Seq reads <br>that have already been processed through the QC pipeline.\n",
    "#### Last Revision: July 2017\n",
    "#### Author: Charles David\n",
    "#### This analysis done by Dan Jones and Karmun Chooi"
   ]
  },
  {
   "cell_type": "markdown",
   "metadata": {},
   "source": [
    "## <u>Step I: Establish Data Management Structure on PowerPlant (Continuing from the QC part)</u>\n",
    "\n",
    "Already completed in the QC notebook"
   ]
  },
  {
   "cell_type": "markdown",
   "metadata": {},
   "source": [
    "## <u>Step II, Part 1: Get the Genome and Annotation Files to be Used in the Alignment Process</u>\n",
    "##### Note that best results are obtained if the reference is good quality and closely related, with annotations"
   ]
  },
  {
   "cell_type": "markdown",
   "metadata": {},
   "source": [
    "### Define Project Variables:\n",
    "* Note that we are using the latest version of STAR: 2.5.2b\n",
    "* We are also using the latest version of Picard Tools: 2.9.4"
   ]
  },
  {
   "cell_type": "code",
   "execution_count": 1,
   "metadata": {
    "collapsed": true
   },
   "outputs": [],
   "source": [
    "# Define the user as a variable\n",
    "USER=\"hradxj\"\n",
    "PROJECTNAME=\"Vitis_Nicotiana_experiment\"\n",
    "# Define the project directory and temp subdirectory as a variable\n",
    "RAW=$PROJECT/000.raw\n",
    "PROJECT=\"/workspace/$USER/$PROJECTNAME\"\n",
    "TEMP=\"$PROJECT/TEMP\"\n",
    "LOG=\n",
    "\n",
    "TEMP=\"${PROJECT}/TEMP\"\n",
    "ANNOT=\"${PROJECT}/007.STAR/annotation/Niben101_annotation.gene_models.gff\"\n",
    "ZIPPEDGENOME=\"/workspace/ComparativeDataSources/Nicotiana/benthamiana/Genome/Niben.v1.0.1/assemblies/Niben.genome.v1.0.1.scaffolds.nrcontigs.fasta.gz\"\n",
    "INDEX=\"${PROJECT}/007.STAR/index\"\n",
    "\n",
    "PICARD=\"/workspace/cflcyd/software/picard/picard.jar\"\n",
    "LOG=$PROJECT/log\n",
    "mkdir -p $LOG"
   ]
  },
  {
   "cell_type": "markdown",
   "metadata": {},
   "source": [
    "#### Make appropriate directories and symlinks to files"
   ]
  },
  {
   "cell_type": "code",
   "execution_count": 2,
   "metadata": {},
   "outputs": [],
   "source": [
    "mkdir ${PROJECT}/TEMP\n",
    "mkdir ${PROJECT}/007.STAR\n",
    "mkdir ${PROJECT}/007.STAR/logs\n",
    "mkdir ${PROJECT}/007.STAR/annotation\n",
    "mkdir ${PROJECT}/007.STAR/genome\n",
    "mkdir ${PROJECT}/007.STAR/index\n",
    "mkdir ${PROJECT}/007.STAR/index/logs\n",
    "mkdir ${PROJECT}/007.STAR/Single_Pass_Results\n",
    "mkdir ${PROJECT}/007.STAR/Two_Pass_Results\n",
    "mkdir ${PROJECT}/008.MBA\n",
    "mkdir ${PROJECT}/008.MBA/logs\n",
    "mkdir ${PROJECT}/008.MBA/Single_Pass_Results\n",
    "mkdir ${PROJECT}/008.MBA/Two_Pass_Results\n",
    "\n",
    "ln -s  /workspace/ComparativeDataSources/Nicotiana/benthamiana/Genome/Niben.v1.0.1/annotation/Niben101/Niben101_annotation.gene_models.gff ${ANNOT}"
   ]
  },
  {
   "cell_type": "code",
   "execution_count": null,
   "metadata": {
    "collapsed": true
   },
   "outputs": [],
   "source": [
    "# Obtain Grapevine leafroll-associated virus 3 and annotations\n",
    "wget ftp://ftp.ncbi.nlm.nih.gov/genomes/all/GCF/000/851/885/GCF_000851885.1_ViralProj14906/GCF_000851885.1_ViralProj14906_genomic.fna.gz -O $RAW/GCF_000851885.1_ViralProj14906_genomic.fna.gz;\n",
    "wget ftp://ftp.ncbi.nlm.nih.gov/genomes/all/GCF/000/851/885/GCF_000851885.1_ViralProj14906/GCF_000851885.1_ViralProj14906_genomic.gff.gz -O $RAW/GCF_000851885.1_ViralProj14906_genomic.gff.gz;\n",
    "gunzip $RAW/*.gz;\n"
   ]
  },
  {
   "cell_type": "markdown",
   "metadata": {},
   "source": [
    "## <u>Step II, Part 2: Index the Genome Using STAR</u>\n",
    "* The inputs to this step are the genome as a multi FASTA file and the annotations as a GFF or GTF file\n",
    "* The outputs include the genome index files used in the alignment steps"
   ]
  },
  {
   "cell_type": "code",
   "execution_count": 108,
   "metadata": {
    "collapsed": true
   },
   "outputs": [],
   "source": [
    "# The genome is a gzipped file and STAR requires unzipped files. Unzip\n",
    "\n",
    "zcat ${ZIPPEDGENOME} > ${PROJECT}/007.STAR/genome/Niben.genome.v1.0.1.scaffolds.nrcontigs.fasta"
   ]
  },
  {
   "cell_type": "code",
   "execution_count": 10,
   "metadata": {},
   "outputs": [
    {
     "name": "stdout",
     "output_type": "stream",
     "text": [
      "/workspace/hradxj/karmun_awesome_experiment/007.STAR/genome/Niben.genome.v1.0.1.scaffolds.nrcontigs.fasta\n",
      "/workspace/hradxj/karmun_awesome_experiment/007.STAR/annotation/Niben101_annotation.gene_models.gff\n"
     ]
    }
   ],
   "source": [
    "GENOME=${PROJECT}/007.STAR/genome/Niben.genome.v1.0.1.scaffolds.nrcontigs.fasta;\n",
    "echo $GENOME\n",
    "echo $ANNOT"
   ]
  },
  {
   "cell_type": "code",
   "execution_count": 110,
   "metadata": {},
   "outputs": [
    {
     "name": "stdout",
     "output_type": "stream",
     "text": [
      "Niben101Ctg00001\t.\tcontig\t1\t500\t.\t.\t.\tID=Niben101Ctg00001\n",
      "Niben101Ctg00002\t.\tcontig\t1\t500\t.\t.\t.\tID=Niben101Ctg00002\n",
      "Niben101Ctg00003\t.\tcontig\t1\t500\t.\t.\t.\tID=Niben101Ctg00003\n",
      "Niben101Ctg00004\t.\tcontig\t1\t500\t.\t.\t.\tID=Niben101Ctg00004\n"
     ]
    }
   ],
   "source": [
    "# We need to examine the annotation file to set 3 parameters: the chromosome prefix and the text used\n",
    "# to identify the parent-child relationship between exons and genes.\n",
    "head -4 $ANNOT\n",
    "# So the chromosome prefix is Niben101Ctg\n"
   ]
  },
  {
   "cell_type": "code",
   "execution_count": 111,
   "metadata": {},
   "outputs": [
    {
     "name": "stdout",
     "output_type": "stream",
     "text": [
      ">Niben101Ctg00054 cov=9.0\n",
      "AAAACCCAATTATTCTCTGAATCAATTCTCCTTCTTCCCTCTACCTCTCCTTTTCACTAA\n",
      "AAACCTAAACATTTTTCAATATCTCTCTATTAACCCATTTATACATAAATCTACAACGCA\n",
      "GTTCAGTTTGTTAAAGTTATTGCACTGTCTAAAAAAAAGAGCATCAATGGCTGAGCCAAC\n",
      "AACACCAAACTCAGAATCAGAATCTAGTAGTTATAACTCTTGTTCTCTTTCTTCTACAAT\n",
      "TTCATCTTCTTCTGTTCTTATAAAGAATATCAACTCGAAAAACCGACTCAAGAGATGCCG\n",
      "TGAAGTAGCAGAAGAAAATGATGGTCAGACAAATATTAGTAAGTGCAGTAATAGCAGTAA\n",
      "GAAAAATGGTGGCAACAAAACTAGCGACGGTTCAAAACACCCATCGTACGTTGGTGTACG\n",
      "AAAGAGGGCATGGGGAAAATGGGTGTCCGAAATTCGTGAACCGAAGAAGAAATCAAGAAT\n",
      "CTGGTTAGGTACTTTCGCCAC\n"
     ]
    }
   ],
   "source": [
    "# Let's check that the genome contains the right records\n",
    "grep -A9 \"Niben101Ctg00054\" < $GENOME\n",
    "# YES, this FASTA does contain a record exactly matching the annotation."
   ]
  },
  {
   "cell_type": "markdown",
   "metadata": {},
   "source": [
    "From the [STAR manual](https://github.com/alexdobin/STAR/blob/master/doc/STARmanual.pdf):\n",
    ">2.2.3 Annotations in GFF format.\n",
    "In addition to the aforementioned options, for GFF3 formatted annotations you need to use\n",
    "--sjdbGTFtagExonParentTranscript Parent. In general, for --sjdbGTFfile files STAR only\n",
    "processes lines which have --sjdbGTFfeatureExon (=exon by default) in the 3rd field (column).\n",
    "The exons are assigned to the transcripts using parent-child relationship defined by the\n",
    "--sjdbGTFtagExonParentTranscript (=transcript id by default) GTF/GFF attribute."
   ]
  },
  {
   "cell_type": "code",
   "execution_count": 112,
   "metadata": {},
   "outputs": [
    {
     "name": "stdout",
     "output_type": "stream",
     "text": [
      "Niben101Ctg00054\tmaker\tgene\t167\t487\t.\t+\t.\tID=Niben101Ctg00054g00001;Alias=snap_masked-Niben101Ctg00054-processed-gene-0.0\n",
      "grep: write error\n",
      "cat: write error: Broken pipe\n"
     ]
    }
   ],
   "source": [
    "# First let's look for the first line with \"gene\" in it\n",
    "cat $ANNOT | grep gene | head -1\n",
    "# We can see that the gene has an \"ID=\". This text identifies the gene. \n",
    "# The subcomponents of the gene will refer to this as a \"parent\""
   ]
  },
  {
   "cell_type": "code",
   "execution_count": 113,
   "metadata": {},
   "outputs": [
    {
     "name": "stdout",
     "output_type": "stream",
     "text": [
      "Niben101Ctg00054\tmaker\tgene\t167\t487\t.\t+\t.\tID=Niben101Ctg00054g00001;Alias=snap_masked-Niben101Ctg00054-processed-gene-0.0\n",
      "Niben101Ctg00054\tmaker\tmRNA\t167\t487\t.\t+\t.\tID=Niben101Ctg00054g00001.1;Parent=Niben101Ctg00054g00001;Alias=snap_masked-Niben101Ctg00054-processed-gene-0.0-mRNA-1;Note=\"Ethylene-responsive transcription factor 7\";Ontology_term=GO:0003677,GO:0006355,GO:0003700\n",
      "Niben101Ctg00054\tmaker\texon\t167\t487\t.\t+\t.\tID=Niben101Ctg00054g00001.1:exon:001;Parent=Niben101Ctg00054g00001.1;Alias=snap_masked-Niben101Ctg00054-processed-gene-0.0-mRNA-1:exon:4812\n",
      "Niben101Ctg00054\tmaker\tCDS\t167\t487\t.\t+\t0\tID=Niben101Ctg00054g00001.1:cds:001;Parent=Niben101Ctg00054g00001.1;Alias=snap_masked-Niben101Ctg00054-processed-gene-0.0-mRNA-1:cds\n"
     ]
    }
   ],
   "source": [
    "# Let's examine all lines that contain this \"ID=\" tag.\n",
    "grep \"ID=Niben101Ctg00054g00001\" < $ANNOT\n",
    "# So the tag that identifies what transcript an exon comes from is \"ID\"\n",
    "# and the tag that identifies what gene an mRNA or CDS comes from is also \"ID\" \n"
   ]
  },
  {
   "cell_type": "markdown",
   "metadata": {
    "collapsed": true
   },
   "source": [
    "Convert gff3 to gtf for use with STAR"
   ]
  },
  {
   "cell_type": "code",
   "execution_count": 56,
   "metadata": {
    "collapsed": true
   },
   "outputs": [],
   "source": [
    "/software/bioinformatics/cufflinks-2.2.1/gffread $ANNOT -T -o ${PROJECT}/007.STAR/annotation/Niben101_annotation.gene_models.gtf\n"
   ]
  },
  {
   "cell_type": "code",
   "execution_count": 85,
   "metadata": {
    "collapsed": true
   },
   "outputs": [],
   "source": [
    "# Convert the gtf to use gene_ID as a tag with a find-and-replace.\n",
    "sed 's/geneID/gene_ID/g' < $ANNOTGTF > ${PROJECT}/007.STAR/annotation//Niben101_annotation.gene_models_fixedg05002.gtf;\n"
   ]
  },
  {
   "cell_type": "code",
   "execution_count": 3,
   "metadata": {
    "collapsed": true
   },
   "outputs": [],
   "source": [
    "# Reset the $ANNOTGTF variable\n",
    "ANNOTGTF=${PROJECT}/007.STAR/annotation/Niben101_annotation.gene_models_fixedg05002.gtf"
   ]
  },
  {
   "cell_type": "code",
   "execution_count": 3,
   "metadata": {},
   "outputs": [],
   "source": [
    "mkdir ${PROJECT}/007.STAR;\n",
    "mkdir ${PROJECT}/007.STAR/logs;\n",
    "mkdir ${PROJECT}/007.STAR/annotation;\n",
    "mkdir ${PROJECT}/007.STAR/genome;\n",
    "mkdir ${PROJECT}/007.STAR/index;\n",
    "mkdir ${PROJECT}/007.STAR/index/logs;\n",
    "mkdir ${PROJECT}/007.STAR/Single_Pass_Results;\n",
    "mkdir ${PROJECT}/007.STAR/Two_Pass_Results;\n",
    "\n",
    "GENOME=${PROJECT}/007.STAR/genome/Niben.genome.v1.0.1.scaffolds.nrcontigs.fasta;\n",
    "\n",
    "\n",
    "COMMAND=\"module load STAR; \\\n",
    "STAR \\\n",
    "--runMode genomeGenerate \\\n",
    "--limitGenomeGenerateRAM 240000000000 \\\n",
    "--runThreadN 32 \\\n",
    "--genomeFastaFiles $GENOME \\\n",
    "--genomeDir ${PROJECT}/007.STAR/index \\\n",
    "--sjdbGTFfile ${ANNOTGTF} \\\n",
    "--sjdbGTFtagExonParentGene gene_id \\\n",
    "--sjdbGTFtagExonParentTranscript transcript_id; \\\n",
    "module unload STAR\"\n",
    "echo $COMMAND;\n",
    "bsub \\\n",
    "-J STAR_Dan \\\n",
    "-o ${PROJECT}/007.STAR/index/logs/%J_STAR_index.out \\\n",
    "-e ${PROJECT}/007.STAR/index/logs/%J_STAR_index.err \\\n",
    "-n 32 \\\n",
    "$COMMAND"
   ]
  },
  {
   "cell_type": "markdown",
   "metadata": {},
   "source": [
    "The inputs for the next step are the final outputs of the QC notebook: trimmed, rRNA removed FASTQ files."
   ]
  },
  {
   "cell_type": "code",
   "execution_count": 5,
   "metadata": {
    "scrolled": false
   },
   "outputs": [],
   "source": [
    "TRIMMED=${PROJECT}/004.trimmomatic\n",
    "OUT_STAR=\"${PROJECT}/007.STAR/Single_Pass_Results\"\n",
    "INDEX=\"${PROJECT}/007.STAR/index\"\n",
    "mkdir -p ${OUT_STAR}\n",
    "PREFIXLIST=`basename -a ${TRIMMED}/*.fastq | sed 's/_R[1,2].fastq//g'|sort -u `\n",
    "echo $PREFIXLIST\n",
    "\n",
    "for PREFIX in ${PREFIXLIST}\n",
    "do\n",
    "echo $PREFIX\n",
    "R1=${TRIMMED}/${PREFIX}_R1.fastq\n",
    "R2=${TRIMMED}/${PREFIX}_R2.fastq\n",
    "\n",
    "\n",
    "COMMAND=\"module load STAR; \\\n",
    "            STAR \\\n",
    "            --runThreadN 8 \\\n",
    "            --genomeDir ${INDEX} \\\n",
    "            --readFilesIn ${R1} ${R2} \\\n",
    "            --sjdbGTFfile ${ANNOTGTF} \\\n",
    "            --sjdbGTFtagExonParentGene gene_id \\\n",
    "            --sjdbGTFtagExonParentTranscript transcript_id \\\n",
    "            --outFileNamePrefix ${OUT_STAR}/${PREFIX}.bam \\\n",
    "            --quantMode TranscriptomeSAM GeneCounts \\\n",
    "            --outStd BAM_SortedByCoordinate\"\n",
    "echo $COMMAND\n",
    "            \n",
    "bsub \\\n",
    "-J STAR \\\n",
    "-o ${LOG}/%J_STAR_index.out \\\n",
    "-e ${LOG}/%J_STAR_index.err \\\n",
    "-n 8 \\\n",
    "-q lowpriority \\\n",
    "$COMMAND\n",
    "done"
   ]
  },
  {
   "cell_type": "code",
   "execution_count": 6,
   "metadata": {},
   "outputs": [],
   "source": [
    "# # Run STAR in two-pass mode\n",
    "# # Create list of files containing splice junctions\n",
    "SJLIST=$(ls ${PROJECT}/007.STAR/Single_Pass_Results/*SJ.out.tab)"
   ]
  },
  {
   "cell_type": "code",
   "execution_count": 7,
   "metadata": {},
   "outputs": [],
   "source": [
    "TRIMMED=${PROJECT}/004.trimmomatic\n",
    "INDEX=${PROJECT}/007.STAR/index\n",
    "OUT_STAR=${PROJECT}/007.STAR/Two_Pass_Results\n",
    "mkdir -p ${OUT_STAR}\n",
    "PREFIXLIST=`basename -a ${TRIMMED}/*.fastq | sed 's/_R[1,2].fastq//g'|sort -u `\n",
    "echo $PREFIXLIST\n",
    "\n",
    "for PREFIX in ${PREFIXLIST}\n",
    "do\n",
    "echo $PREFIX\n",
    "R1=${TRIMMED}/${PREFIX}_R1.fastq\n",
    "R2=${TRIMMED}/${PREFIX}_R2.fastq\n",
    "\n",
    "\n",
    "COMMAND=\"module load STAR; \\\n",
    "            STAR \\\n",
    "            --runThreadN 8 \\\n",
    "            --genomeDir ${INDEX} \\\n",
    "            --readFilesIn ${R1} ${R2} \\\n",
    "            --sjdbGTFfile ${ANNOTGTF} \\\n",
    "            --sjdbGTFtagExonParentGene gene_id \\\n",
    "            --sjdbGTFtagExonParentTranscript transcript_id \\\n",
    "            --outFileNamePrefix ${OUT_STAR}/${PREFIX}.bam \\\n",
    "            --sjdbFileChrStartEnd ${SJLIST} \\\n",
    "            --quantMode TranscriptomeSAM GeneCounts \\\n",
    "            --outStd BAM_SortedByCoordinate\"\n",
    "bsub \\\n",
    "-J STAR \\\n",
    "-o ${LOG}/%J_STAR_index.out \\\n",
    "-e ${LOG}/%J_STAR_index.err \\\n",
    "-n 8 \\\n",
    "-q lowpriority \\\n",
    "$COMMAND\n",
    "done"
   ]
  },
  {
   "cell_type": "markdown",
   "metadata": {
    "collapsed": true
   },
   "source": [
    "For this analysis, there are three samples:\n",
    "\n",
    "RACP005_11_S11_L002                 Benth-Healthy-1\n",
    "RACP005_12_S12_L002                 Benth-Healthy-2\n",
    "RACP005_13_S13_L002                 Benth-Infected\n",
    "\n",
    "Read counts have been generated by STAR. \n",
    "It is neccessary to create a single tab-delimited text file for import into R.\n",
    "\n",
    "In this case, STAR produces a table of read counts that has the following characteristics:\n",
    "\n",
    "1) The first four lines of the table contain information about the number of unmapped and multimapped reads.An example is shown below:\n",
    "\n",
    "```\n",
    "head RACP005_13_S13_L002_MERGED_trimmomatic.bamReadsPerGene.out.tab\n",
    "N_unmapped      24827661        24827661        24827661\n",
    "N_multimapping  6684546 6684546 6684546\n",
    "N_noFeature     7429471 7663155 34125351\n",
    "N_ambiguous     717277  256966  6802\n",
    "```\n",
    "These four lines are relevant but not used in the DE analysis, so should be removed.\n",
    "\n",
    "2) The columns are ordered as follows\n",
    "\n",
    "Gene name | Unstranded read counts | Sense strand read counts | Antisense strand read counts\n",
    "--- | --- | --- | ---\n",
    "\n",
    "We are interested in columns 1 and 3 (and column 4 if we choose to investigate antisense transcripts).\n",
    "\n",
    "Therefore we need to create a file that contains the gene names in column 1, and the Sense strand read counts from 3 samples in columns 2,3,4.\n"
   ]
  },
  {
   "cell_type": "code",
   "execution_count": 125,
   "metadata": {},
   "outputs": [
    {
     "name": "stdout",
     "output_type": "stream",
     "text": [
      "RACP005_11_S11_L002_MERGED_trimmomatic.bamReadsPerGene.out.tab\n",
      "RACP005_12_S12_L002_MERGED_trimmomatic.bamReadsPerGene.out.tab\n",
      "RACP005_13_S13_L002_MERGED_trimmomatic.bamReadsPerGene.out.tab\n"
     ]
    }
   ],
   "source": [
    "# Find location of read count files\n",
    "ls ${PROJECT}/007.STAR/Two_Pass_Results | grep ReadsPerGene"
   ]
  },
  {
   "cell_type": "code",
   "execution_count": 51,
   "metadata": {
    "collapsed": true
   },
   "outputs": [],
   "source": [
    "# First create a new file with one column of all gene names.\n",
    "\n",
    "mkdir -p ${PROJECT}/010.edgeR_Nb;\n",
    "\n",
    "cat ${PROJECT}/007.STAR/Two_Pass_Results/RACP005_11_S11_L002_MERGED_trimmomatic.bamReadsPerGene.out.tab |awk '{print $1}'\\\n",
    "> ${PROJECT}/010.edgeR_Nb/GRLaV3_Nb_EdgeR-genenames.tab;\n"
   ]
  },
  {
   "cell_type": "code",
   "execution_count": 52,
   "metadata": {
    "collapsed": true
   },
   "outputs": [],
   "source": [
    "# Now add the appropriate column\n",
    "# Create a list of read count file names\n",
    "READCOUNTFILELIST=$(ls ${PROJECT}/007.STAR/Two_Pass_Results | grep ReadsPerGene)\n",
    "\n",
    "\n",
    "for READCOUNTFILE in $READCOUNTFILELIST\n",
    "do\n",
    "awk '{print $3}' < ${PROJECT}/007.STAR/Two_Pass_Results/${READCOUNTFILE} > ${PROJECT}/010.edgeR_Nb/${READCOUNTFILE}.col3;\n",
    "done\n",
    "\n",
    "paste ${PROJECT}/010.edgeR_Nb/GRLaV3_Nb_EdgeR-genenames.tab \\\n",
    "${PROJECT}/010.edgeR_Nb/RACP005_11_S11_L002_MERGED_trimmomatic.bamReadsPerGene.out.tab.col3 \\\n",
    "${PROJECT}/010.edgeR_Nb/RACP005_12_S12_L002_MERGED_trimmomatic.bamReadsPerGene.out.tab.col3 \\\n",
    "${PROJECT}/010.edgeR_Nb/RACP005_13_S13_L002_MERGED_trimmomatic.bamReadsPerGene.out.tab.col3 \\\n",
    "> ${PROJECT}/010.edgeR_Nb/GRLaV3_Nb_EdgeR_with_unmapped.tab\n"
   ]
  },
  {
   "cell_type": "code",
   "execution_count": 53,
   "metadata": {},
   "outputs": [
    {
     "name": "stdout",
     "output_type": "stream",
     "text": [
      "N_unmapped\t11575247\t1193884\t24827661\n",
      "N_multimapping\t6457575\t575648\t6684546\n",
      "N_noFeature\t6314912\t701699\t7663155\n",
      "N_ambiguous\t219454\t21609\t256966\n",
      "Niben101Ctg00054g00001\t55\t23\t79\n",
      "Niben101Ctg00074g00004\t0\t0\t0\n",
      "Niben101Ctg00116g00002\t65\t17\t133\n",
      "Niben101Ctg00129g00001\t0\t0\t0\n",
      "Niben101Ctg00141g00002\t1\t0\t1\n",
      "Niben101Ctg00174g00001\t0\t0\t0\n"
     ]
    }
   ],
   "source": [
    "head ${PROJECT}/010.edgeR_Nb/GRLaV3_Nb_EdgeR_with_unmapped.tab\n"
   ]
  },
  {
   "cell_type": "code",
   "execution_count": 54,
   "metadata": {
    "collapsed": true
   },
   "outputs": [],
   "source": [
    "tail -59814  ${PROJECT}/010.edgeR_Nb/GRLaV3_Nb_EdgeR_with_unmapped.tab >  ${PROJECT}/010.edgeR_Nb/GRLaV3_Nb_EdgeR.tab\n"
   ]
  },
  {
   "cell_type": "code",
   "execution_count": 55,
   "metadata": {
    "collapsed": true
   },
   "outputs": [],
   "source": [
    "# Add header line\n",
    "\n",
    "sed -i '1s/^/Gene\\tBenth-Healthy-1\\tBenth-Healthy-2\\tBenth-Infected\\n/' ${PROJECT}/010.edgeR_Nb/GRLaV3_Nb_EdgeR.tab;\n"
   ]
  },
  {
   "cell_type": "code",
   "execution_count": 56,
   "metadata": {},
   "outputs": [
    {
     "name": "stdout",
     "output_type": "stream",
     "text": [
      "Gene\tBenth-Healthy-1\tBenth-Healthy-2\tBenth-Infected\n",
      "Niben101Ctg00054g00001\t55\t23\t79\n",
      "Niben101Ctg00074g00004\t0\t0\t0\n",
      "Niben101Ctg00116g00002\t65\t17\t133\n",
      "Niben101Ctg00129g00001\t0\t0\t0\n",
      "Niben101Ctg00141g00002\t1\t0\t1\n",
      "Niben101Ctg00174g00001\t0\t0\t0\n",
      "Niben101Ctg00192g00001\t0\t0\t0\n",
      "Niben101Ctg00219g00002\t3\t1\t4\n",
      "Niben101Ctg00228g00001\t43\t5\t53\n"
     ]
    }
   ],
   "source": [
    "# Check final formatting of file\n",
    "head ${PROJECT}/010.edgeR_Nb/GRLaV3_Nb_EdgeR.tab\n",
    "# We are now ready to analyse this in EdgeR"
   ]
  },
  {
   "cell_type": "markdown",
   "metadata": {},
   "source": [
    "We have derived a set of raw read counts. These are the inputs to the downstream RMarkdown notebooks."
   ]
  },
  {
   "cell_type": "code",
   "execution_count": 9,
   "metadata": {},
   "outputs": [
    {
     "name": "stdout",
     "output_type": "stream",
     "text": [
      "[NbConvertApp] Converting notebook /workspace/hradxj/bioinf_Vitis_Nicotiana_RNAseq/02a_RNAseq_Alignment_to_Reference_Nicotinia_benthamiana-Manuscript.ipynb to markdown\n",
      "[NbConvertApp] Writing 14187 bytes to /workspace/hradxj/bioinf_Vitis_Nicotiana_RNAseq/02a_RNAseq_Alignment_to_Reference_Nicotinia_benthamiana-Manuscript.md\n",
      "[NbConvertApp] Converting notebook /workspace/hradxj/bioinf_Vitis_Nicotiana_RNAseq/02a_RNAseq_Alignment_to_Reference_Nicotinia_benthamiana-Manuscript.ipynb to html\n",
      "[NbConvertApp] Writing 288296 bytes to /workspace/hradxj/bioinf_Vitis_Nicotiana_RNAseq/02a_RNAseq_Alignment_to_Reference_Nicotinia_benthamiana-Manuscript.html\n"
     ]
    }
   ],
   "source": [
    "# Render notebook to html and markdown\n",
    "module load pfr-python3\n",
    "jupyter nbconvert --to markdown /workspace/$USER/bioinf_Vitis_Nicotiana_RNAseq/02a_RNAseq_Alignment_to_Reference_Nicotinia_benthamiana-Manuscript.ipynb\n",
    "jupyter nbconvert --to html /workspace/$USER/bioinf_Vitis_Nicotiana_RNAseq/02a_RNAseq_Alignment_to_Reference_Nicotinia_benthamiana-Manuscript.ipynb\n",
    "module unload pfr-python3"
   ]
  }
 ],
 "metadata": {
  "kernelspec": {
   "display_name": "Bash",
   "language": "bash",
   "name": "bash"
  },
  "language_info": {
   "codemirror_mode": "shell",
   "file_extension": ".sh",
   "mimetype": "text/x-sh",
   "name": "bash"
  }
 },
 "nbformat": 4,
 "nbformat_minor": 1
}
