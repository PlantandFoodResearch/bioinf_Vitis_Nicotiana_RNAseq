{
 "cells": [
  {
   "cell_type": "markdown",
   "metadata": {},
   "source": [
    "# <u>RNA-Seq Analysis Phase IIa: Alignment to Reference Genome</u>\n",
    "## This Notebook illustrates how to align paired-end RNA-Seq reads <br>that have already been processed through the QC pipeline.\n",
    "#### Last Revision: July 2017\n",
    "#### Author: Charles David\n",
    "## <span style=\"color:red\"><u>Please use this Notebook in Conjunction with the RNA-Seq Best Practices Document:</u></span>\n",
    "### <a href=\"https://github.com/PlantandFoodResearch/BestPractices/blob/bestpractices/_bestpractices/RNASeq/RNA-Seq-Best-Practice-Guidelines_REV_July_2017.md\">RNA-Seq-Best-Practice-Guidelines_REV_July_2017.md</a>"
   ]
  },
  {
   "cell_type": "markdown",
   "metadata": {},
   "source": [
    "## The Raw Data files are located on PowerPlant in the following location:\n",
    "### `/input/genomic/Best_Practices_Testing/RNA_Seq/PE_Data`\n",
    "## The Workflow is located on PowerPlant in the following location:\n",
    "### `/workspace/Best_Practices_Testing/RNA_Seq/PE_Example`\n",
    "#### As Always, Please Re-Create this Workflow in YOUR OWN Workspace."
   ]
  },
  {
   "cell_type": "markdown",
   "metadata": {},
   "source": [
    "## The Raw Data files are located on PowerPlant in the following location:\n",
    "\n",
    "\n",
    "`/input/genomic/plant/Actinidia/chinensis/AGRF_CAGRF15208_CB6RHANXX`\n",
    "\n",
    "Sequence name meaning\n",
    "SRCT08_1: S=Simona; R=Red; CT=treatment name, control in this case; 08=weeks after anthesis, fruit age; 1=biological replicate\n",
    "there are 4 sequencing files per each sample as they were run on 2 lanes (L001 and L002) and they were paired end (R1 and R2)"
   ]
  },
  {
   "cell_type": "markdown",
   "metadata": {
    "collapsed": true
   },
   "source": [
    "## <u>The Key Steps in this Section are: </u>##"
   ]
  },
  {
   "cell_type": "markdown",
   "metadata": {},
   "source": [
    "#### I. Establish Data Management Structure on PowerPlant (Continuing from the QC part)\n",
    "1. Make the necessary directories for the data and the analysis\n",
    "2. Name the directories using standard workflow naming conventions\n",
    "3. Name files using standard workflow naming conventions\n",
    "\n",
    "#### II. Perform the Analyses: Align to Reference Genome Using the STAR Aligner\n",
    " 1. Obtain reference genome and corresponding annotation file (GFF, GTF)\n",
    " 2. Index the genome\n",
    " 3. Align to genome:\n",
    "    - Single-Pass Mode\n",
    "    - Two-Pass Mode\n",
    " 4. Merge uBAM and aligned BAM to produce \"Clean\" BAM\n",
    " 5. Clean Up Workspace:\n",
    "     - Delete un-needed intermediate files\n",
    "     - Compress files that are still required\n",
    "\n",
    "#### III. Assess the results for suitabillity in downstream analysis"
   ]
  },
  {
   "cell_type": "markdown",
   "metadata": {},
   "source": [
    "## <u>Step I: Establish Data Management Structure on PowerPlant (Continuing from the QC part)</u>"
   ]
  },
  {
   "cell_type": "markdown",
   "metadata": {},
   "source": [
    "### Create the analysis directories in YOUR workspace:\n",
    "* 007.STAR\n",
    "* 008.MBA\n",
    "\n",
    "    * `mkdir /workspace/USER/RNA_Seq/PE_Example/007.STAR`\n",
    "    * `mkdir /workspace/USER/RNA_Seq/PE_Example/007.STAR/logs`\n",
    "    * `mkdir /workspace/USER/RNA_Seq/PE_Example/007.STAR/annotation`\n",
    "    * `mkdir /workspace/USER/RNA_Seq/PE_Example/007.STAR/genome`\n",
    "    * `mkdir /workspace/USER/RNA_Seq/PE_Example/007.STAR/index`\n",
    "    * `mkdir /workspace/USER/RNA_Seq/PE_Example/007.STAR/index/logs`\n",
    "    * `mkdir /workspace/USER/RNA_Seq/PE_Example/007.STAR/Single_Pass_Results`\n",
    "    * `mkdir /workspace/USER/RNA_Seq/PE_Example/007.STAR/Two_Pass_Results`\n",
    "    * `mkdir /workspace/USER/RNA_Seq/PE_Example/008.MBA`\n",
    "    * `mkdir /workspace/USER/RNA_Seq/PE_Example/008.MBA/logs`\n",
    "    * `mkdir /workspace/USER/RNA_Seq/PE_Example/008.MBA/Single_Pass_Results`\n",
    "    * `mkdir /workspace/USER/RNA_Seq/PE_Example/008.MBA/Two_Pass_Results`\n"
   ]
  },
  {
   "cell_type": "markdown",
   "metadata": {},
   "source": [
    "## <u>Step II, Part 1: Get the Genome and Annotation Files to be Used in the Alignment Process</u>\n",
    "##### Note that best results are obtained if the reference is good quality and closely related, with annotations"
   ]
  },
  {
   "cell_type": "markdown",
   "metadata": {},
   "source": [
    "### Define Project Variables:\n",
    "* Note that we are using the latest version of STAR: 2.5.2b\n",
    "* We are also using the latest version of Picard Tools: 2.9.4"
   ]
  },
  {
   "cell_type": "code",
   "execution_count": 1,
   "metadata": {
    "collapsed": true
   },
   "outputs": [],
   "source": [
    "# Define the user as a variable\n",
    "USER=\"hradxj\"\n",
    "PROJECTNAME=\"karmun_awesome_experiment\"\n",
    "# Define the project directory and temp subdirectory as a variable\n",
    "RAW=$PROJECT/000.raw\n",
    "PROJECT=\"/workspace/$USER/$PROJECTNAME\"\n",
    "TEMP=\"$PROJECT/TEMP\"\n",
    "LOG=\n",
    "\n",
    "TEMP=\"${PROJECT}/TEMP\"\n",
    "ANNOT=\"${PROJECT}/007.STAR/annotation/Niben101_annotation.gene_models.gff\"\n",
    "ZIPPEDGENOME=\"/workspace/ComparativeDataSources/Nicotiana/benthamiana/Genome/Niben.v1.0.1/assemblies/Niben.genome.v1.0.1.scaffolds.nrcontigs.fasta.gz\"\n",
    "INDEX=\"${PROJECT}/007.STAR/index\"\n",
    "\n",
    "PICARD=\"/workspace/cflcyd/software/picard/picard.jar\"\n",
    "LOG=$PROJECT/log\n",
    "mkdir -p $LOG"
   ]
  },
  {
   "cell_type": "code",
   "execution_count": 3,
   "metadata": {},
   "outputs": [
    {
     "name": "stdout",
     "output_type": "stream",
     "text": [
      "/workspace/hradxj/karmun_awesome_experiment\n"
     ]
    }
   ],
   "source": [
    "echo $PROJECT"
   ]
  },
  {
   "cell_type": "code",
   "execution_count": 20,
   "metadata": {},
   "outputs": [
    {
     "name": "stdout",
     "output_type": "stream",
     "text": [
      "000.raw\t\t003.fastqc_smrna  006.MIA    008.MBA\t  TEMP\n",
      "001.fastqc_raw\t004.trimmomatic   007a.STAR  009.STAR\n",
      "002.SMRNA\t005.fastqc_trim   007.STAR   Illumina.fa\n"
     ]
    }
   ],
   "source": [
    "ls $PROJECT"
   ]
  },
  {
   "cell_type": "markdown",
   "metadata": {},
   "source": [
    "#### Make appropriate directories and symlinks to files"
   ]
  },
  {
   "cell_type": "code",
   "execution_count": 107,
   "metadata": {},
   "outputs": [
    {
     "name": "stdout",
     "output_type": "stream",
     "text": [
      "mkdir: cannot create directory ‘/workspace/hradxj/karmun_awesome_experiment/TEMP’: File exists\n",
      "mkdir: cannot create directory ‘/workspace/hradxj/karmun_awesome_experiment/008.MBA’: File exists\n",
      "mkdir: cannot create directory ‘/workspace/hradxj/karmun_awesome_experiment/008.MBA/logs’: File exists\n",
      "mkdir: cannot create directory ‘/workspace/hradxj/karmun_awesome_experiment/008.MBA/Single_Pass_Results’: File exists\n",
      "mkdir: cannot create directory ‘/workspace/hradxj/karmun_awesome_experiment/008.MBA/Two_Pass_Results’: File exists\n"
     ]
    }
   ],
   "source": [
    "mkdir ${PROJECT}/TEMP\n",
    "mkdir ${PROJECT}/007.STAR\n",
    "mkdir ${PROJECT}/007.STAR/logs\n",
    "mkdir ${PROJECT}/007.STAR/annotation\n",
    "mkdir ${PROJECT}/007.STAR/genome\n",
    "mkdir ${PROJECT}/007.STAR/index\n",
    "mkdir ${PROJECT}/007.STAR/index/logs\n",
    "mkdir ${PROJECT}/007.STAR/Single_Pass_Results\n",
    "mkdir ${PROJECT}/007.STAR/Two_Pass_Results\n",
    "mkdir ${PROJECT}/008.MBA\n",
    "mkdir ${PROJECT}/008.MBA/logs\n",
    "mkdir ${PROJECT}/008.MBA/Single_Pass_Results\n",
    "mkdir ${PROJECT}/008.MBA/Two_Pass_Results\n",
    "\n",
    "ln -s  /workspace/ComparativeDataSources/Nicotiana/benthamiana/Genome/Niben.v1.0.1/annotation/Niben101/Niben101_annotation.gene_models.gff ${ANNOT}"
   ]
  },
  {
   "cell_type": "code",
   "execution_count": null,
   "metadata": {
    "collapsed": true
   },
   "outputs": [],
   "source": [
    "# SANITY CHECK: have the directories and symlinks been made correctly?\n",
    "ls -R ${PROJECT}"
   ]
  },
  {
   "cell_type": "code",
   "execution_count": null,
   "metadata": {
    "collapsed": true
   },
   "outputs": [],
   "source": [
    "# Obtain Grapevine leafroll-associated virus 3 and annotations\n",
    "wget ftp://ftp.ncbi.nlm.nih.gov/genomes/all/GCF/000/851/885/GCF_000851885.1_ViralProj14906/GCF_000851885.1_ViralProj14906_genomic.fna.gz -O $RAW/GCF_000851885.1_ViralProj14906_genomic.fna.gz;\n",
    "wget ftp://ftp.ncbi.nlm.nih.gov/genomes/all/GCF/000/851/885/GCF_000851885.1_ViralProj14906/GCF_000851885.1_ViralProj14906_genomic.gff.gz -O $RAW/GCF_000851885.1_ViralProj14906_genomic.gff.gz;\n",
    "gunzip $RAW/*.gz;\n"
   ]
  },
  {
   "cell_type": "markdown",
   "metadata": {},
   "source": [
    "## <u>Step II, Part 2: Index the Genome Using STAR</u>\n",
    "* The inputs to this step are the genome as a multi FASTA file and the annotations as a GFF or GTF file\n",
    "* The outputs include the genome index files used in the alignment steps"
   ]
  },
  {
   "cell_type": "code",
   "execution_count": 108,
   "metadata": {
    "collapsed": true
   },
   "outputs": [],
   "source": [
    "# The genome is a gzipped file and STAR requires unzipped files. Unzip\n",
    "\n",
    "zcat ${ZIPPEDGENOME} > ${PROJECT}/007.STAR/genome/Niben.genome.v1.0.1.scaffolds.nrcontigs.fasta"
   ]
  },
  {
   "cell_type": "code",
   "execution_count": 10,
   "metadata": {},
   "outputs": [
    {
     "name": "stdout",
     "output_type": "stream",
     "text": [
      "/workspace/hradxj/karmun_awesome_experiment/007.STAR/genome/Niben.genome.v1.0.1.scaffolds.nrcontigs.fasta\n",
      "/workspace/hradxj/karmun_awesome_experiment/007.STAR/annotation/Niben101_annotation.gene_models.gff\n"
     ]
    }
   ],
   "source": [
    "GENOME=${PROJECT}/007.STAR/genome/Niben.genome.v1.0.1.scaffolds.nrcontigs.fasta;\n",
    "echo $GENOME\n",
    "echo $ANNOT"
   ]
  },
  {
   "cell_type": "code",
   "execution_count": 110,
   "metadata": {},
   "outputs": [
    {
     "name": "stdout",
     "output_type": "stream",
     "text": [
      "Niben101Ctg00001\t.\tcontig\t1\t500\t.\t.\t.\tID=Niben101Ctg00001\n",
      "Niben101Ctg00002\t.\tcontig\t1\t500\t.\t.\t.\tID=Niben101Ctg00002\n",
      "Niben101Ctg00003\t.\tcontig\t1\t500\t.\t.\t.\tID=Niben101Ctg00003\n",
      "Niben101Ctg00004\t.\tcontig\t1\t500\t.\t.\t.\tID=Niben101Ctg00004\n"
     ]
    }
   ],
   "source": [
    "# We need to examine the annotation file to set 3 parameters: the chromosome prefix and the text used\n",
    "# to identify the parent-child relationship between exons and genes.\n",
    "head -4 $ANNOT\n",
    "# So the chromosome prefix is Niben101Ctg\n"
   ]
  },
  {
   "cell_type": "code",
   "execution_count": 111,
   "metadata": {},
   "outputs": [
    {
     "name": "stdout",
     "output_type": "stream",
     "text": [
      ">Niben101Ctg00054 cov=9.0\n",
      "AAAACCCAATTATTCTCTGAATCAATTCTCCTTCTTCCCTCTACCTCTCCTTTTCACTAA\n",
      "AAACCTAAACATTTTTCAATATCTCTCTATTAACCCATTTATACATAAATCTACAACGCA\n",
      "GTTCAGTTTGTTAAAGTTATTGCACTGTCTAAAAAAAAGAGCATCAATGGCTGAGCCAAC\n",
      "AACACCAAACTCAGAATCAGAATCTAGTAGTTATAACTCTTGTTCTCTTTCTTCTACAAT\n",
      "TTCATCTTCTTCTGTTCTTATAAAGAATATCAACTCGAAAAACCGACTCAAGAGATGCCG\n",
      "TGAAGTAGCAGAAGAAAATGATGGTCAGACAAATATTAGTAAGTGCAGTAATAGCAGTAA\n",
      "GAAAAATGGTGGCAACAAAACTAGCGACGGTTCAAAACACCCATCGTACGTTGGTGTACG\n",
      "AAAGAGGGCATGGGGAAAATGGGTGTCCGAAATTCGTGAACCGAAGAAGAAATCAAGAAT\n",
      "CTGGTTAGGTACTTTCGCCAC\n"
     ]
    }
   ],
   "source": [
    "# Let's check that the genome contains the right records\n",
    "grep -A9 \"Niben101Ctg00054\" < $GENOME\n",
    "# YES, this FASTA does contain a record exactly matching the annotation."
   ]
  },
  {
   "cell_type": "markdown",
   "metadata": {},
   "source": [
    "From the [STAR manual](https://github.com/alexdobin/STAR/blob/master/doc/STARmanual.pdf):\n",
    ">2.2.3 Annotations in GFF format.\n",
    "In addition to the aforementioned options, for GFF3 formatted annotations you need to use\n",
    "--sjdbGTFtagExonParentTranscript Parent. In general, for --sjdbGTFfile files STAR only\n",
    "processes lines which have --sjdbGTFfeatureExon (=exon by default) in the 3rd field (column).\n",
    "The exons are assigned to the transcripts using parent-child relationship defined by the\n",
    "--sjdbGTFtagExonParentTranscript (=transcript id by default) GTF/GFF attribute."
   ]
  },
  {
   "cell_type": "code",
   "execution_count": 112,
   "metadata": {},
   "outputs": [
    {
     "name": "stdout",
     "output_type": "stream",
     "text": [
      "Niben101Ctg00054\tmaker\tgene\t167\t487\t.\t+\t.\tID=Niben101Ctg00054g00001;Alias=snap_masked-Niben101Ctg00054-processed-gene-0.0\n",
      "grep: write error\n",
      "cat: write error: Broken pipe\n"
     ]
    }
   ],
   "source": [
    "# First let's look for the first line with \"gene\" in it\n",
    "cat $ANNOT | grep gene | head -1\n",
    "# We can see that the gene has an \"ID=\". This text identifies the gene. \n",
    "# The subcomponents of the gene will refer to this as a \"parent\""
   ]
  },
  {
   "cell_type": "code",
   "execution_count": 113,
   "metadata": {},
   "outputs": [
    {
     "name": "stdout",
     "output_type": "stream",
     "text": [
      "Niben101Ctg00054\tmaker\tgene\t167\t487\t.\t+\t.\tID=Niben101Ctg00054g00001;Alias=snap_masked-Niben101Ctg00054-processed-gene-0.0\n",
      "Niben101Ctg00054\tmaker\tmRNA\t167\t487\t.\t+\t.\tID=Niben101Ctg00054g00001.1;Parent=Niben101Ctg00054g00001;Alias=snap_masked-Niben101Ctg00054-processed-gene-0.0-mRNA-1;Note=\"Ethylene-responsive transcription factor 7\";Ontology_term=GO:0003677,GO:0006355,GO:0003700\n",
      "Niben101Ctg00054\tmaker\texon\t167\t487\t.\t+\t.\tID=Niben101Ctg00054g00001.1:exon:001;Parent=Niben101Ctg00054g00001.1;Alias=snap_masked-Niben101Ctg00054-processed-gene-0.0-mRNA-1:exon:4812\n",
      "Niben101Ctg00054\tmaker\tCDS\t167\t487\t.\t+\t0\tID=Niben101Ctg00054g00001.1:cds:001;Parent=Niben101Ctg00054g00001.1;Alias=snap_masked-Niben101Ctg00054-processed-gene-0.0-mRNA-1:cds\n"
     ]
    }
   ],
   "source": [
    "# Let's examine all lines that contain this \"ID=\" tag.\n",
    "grep \"ID=Niben101Ctg00054g00001\" < $ANNOT\n",
    "# So the tag that identifies what transcript an exon comes from is \"ID\"\n",
    "# and the tag that identifies what gene an mRNA or CDS comes from is also \"ID\" \n"
   ]
  },
  {
   "cell_type": "markdown",
   "metadata": {
    "collapsed": true
   },
   "source": [
    "Convert gff3 to gtf for use with STAR"
   ]
  },
  {
   "cell_type": "code",
   "execution_count": 56,
   "metadata": {
    "collapsed": true
   },
   "outputs": [],
   "source": [
    "/software/bioinformatics/cufflinks-2.2.1/gffread $ANNOT -T -o ${PROJECT}/007.STAR/annotation/Niben101_annotation.gene_models.gtf\n"
   ]
  },
  {
   "cell_type": "code",
   "execution_count": null,
   "metadata": {
    "collapsed": true
   },
   "outputs": [],
   "source": [
    "# For some reason, a single gene comes out with \"geneID\" instead of \"gene_id\""
   ]
  },
  {
   "cell_type": "code",
   "execution_count": 83,
   "metadata": {},
   "outputs": [
    {
     "name": "stdout",
     "output_type": "stream",
     "text": [
      "Niben101Scf01064\tmaker\texon\t568773\t570384\t.\t+\t.\ttranscript_id \"Niben101Scf01064g05002.1\"; geneID \"Niben101Scf01064g05002\";\n",
      "Niben101Scf01064\tmaker\texon\t570767\t570807\t.\t+\t.\ttranscript_id \"Niben101Scf01064g05002.1\"; geneID \"Niben101Scf01064g05002\";\n",
      "Niben101Scf01064\tmaker\tCDS\t568773\t570384\t.\t+\t0\ttranscript_id \"Niben101Scf01064g05002.1\"; geneID \"Niben101Scf01064g05002\";\n",
      "Niben101Scf01064\tmaker\tCDS\t570767\t570807\t.\t+\t2\ttranscript_id \"Niben101Scf01064g05002.1\"; geneID \"Niben101Scf01064g05002\";\n"
     ]
    }
   ],
   "source": [
    "grep geneID < $ANNOTGTF"
   ]
  },
  {
   "cell_type": "code",
   "execution_count": 80,
   "metadata": {},
   "outputs": [
    {
     "name": "stdout",
     "output_type": "stream",
     "text": [
      "Niben101Scf01064\tmaker\tgene\t568773\t570807\t.\t+\t.\tID=Niben101Scf01064g05002;Alias=snap_masked-Niben101Scf01064-processed-gene-5.1\n",
      "Niben101Scf01064\tmaker\texon\t568773\t570384\t.\t+\t.\tID=Niben101Scf01064g05002.1:exon:001;Parent=Niben101Scf01064g05002.1;Alias=snap_masked-Niben101Scf01064-processed-gene-5.1-mRNA-1:exon:644\n",
      "Niben101Scf01064\tmaker\texon\t570767\t570807\t.\t+\t.\tID=Niben101Scf01064g05002.1:exon:002;Parent=Niben101Scf01064g05002.1;Alias=snap_masked-Niben101Scf01064-processed-gene-5.1-mRNA-1:exon:645\n",
      "Niben101Scf01064\tmaker\tCDS\t568773\t570384\t.\t+\t0\tID=Niben101Scf01064g05002.1:cds:001;Parent=Niben101Scf01064g05002.1;Alias=snap_masked-Niben101Scf01064-processed-gene-5.1-mRNA-1:cds\n",
      "Niben101Scf01064\tmaker\tCDS\t570767\t570807\t.\t+\t2\tID=Niben101Scf01064g05002.1:cds:002;Parent=Niben101Scf01064g05002.1;Alias=snap_masked-Niben101Scf01064-processed-gene-5.1-mRNA-1:cds\n",
      "Niben101Scf01064\tmaker\tgene\t508219\t513366\t.\t+\t.\tID=Niben101Scf01064g05007;Alias=maker-Niben101Scf01064-snap-gene-5.6\n",
      "Niben101Scf01064\tmaker\tmRNA\t508219\t513366\t.\t+\t.\tID=Niben101Scf01064g05007.1;Parent=Niben101Scf01064g05007;Alias=maker-Niben101Scf01064-snap-gene-5.6-mRNA-1;Note=\"Protein trichome birefringence-like 38\"\n",
      "Niben101Scf01064\tmaker\texon\t508219\t508245\t.\t+\t.\tID=Niben101Scf01064g05007.1:exon:001;Parent=Niben101Scf01064g05007.1;Alias=maker-Niben101Scf01064-snap-gene-5.6-mRNA-1:exon:646\n",
      "Niben101Scf01064\tmaker\texon\t509505\t509680\t.\t+\t.\tID=Niben101Scf01064g05007.1:exon:002;Parent=Niben101Scf01064g05007.1;Alias=maker-Niben101Scf01064-snap-gene-5.6-mRNA-1:exon:647\n",
      "Niben101Scf01064\tmaker\texon\t511891\t512049\t.\t+\t.\tID=Niben101Scf01064g05007.1:exon:003;Parent=Niben101Scf01064g05007.1;Alias=maker-Niben101Scf01064-snap-gene-5.6-mRNA-1:exon:648\n",
      "Niben101Scf01064\tmaker\texon\t513075\t513366\t.\t+\t.\tID=Niben101Scf01064g05007.1:exon:004;Parent=Niben101Scf01064g05007.1;Alias=maker-Niben101Scf01064-snap-gene-5.6-mRNA-1:exon:649\n",
      "Niben101Scf01064\tmaker\tCDS\t508219\t508245\t.\t+\t0\tID=Niben101Scf01064g05007.1:cds:001;Parent=Niben101Scf01064g05007.1;Alias=maker-Niben101Scf01064-snap-gene-5.6-mRNA-1:cds\n",
      "Niben101Scf01064\tmaker\tCDS\t509505\t509680\t.\t+\t0\tID=Niben101Scf01064g05007.1:cds:002;Parent=Niben101Scf01064g05007.1;Alias=maker-Niben101Scf01064-snap-gene-5.6-mRNA-1:cds\n",
      "Niben101Scf01064\tmaker\tCDS\t511891\t512049\t.\t+\t1\tID=Niben101Scf01064g05007.1:cds:003;Parent=Niben101Scf01064g05007.1;Alias=maker-Niben101Scf01064-snap-gene-5.6-mRNA-1:cds\n",
      "Niben101Scf01064\tmaker\tCDS\t513075\t513366\t.\t+\t1\tID=Niben101Scf01064g05007.1:cds:004;Parent=Niben101Scf01064g05007.1;Alias=maker-Niben101Scf01064-snap-gene-5.6-mRNA-1:cds\n"
     ]
    }
   ],
   "source": [
    "# examine two genes to see what the difference is. g05002 comes out with geneID as a tag, g05007 comes out with gene_id as a tag.\n",
    "grep \"Niben101Scf01064g05002\" < $ANNOT > test.gff\n",
    "grep \"Niben101Scf01064g05007\" < $ANNOT >> test.gff;\n",
    "cat test.gff"
   ]
  },
  {
   "cell_type": "code",
   "execution_count": 81,
   "metadata": {
    "scrolled": true
   },
   "outputs": [
    {
     "name": "stdout",
     "output_type": "stream",
     "text": [
      "Niben101Scf01064\tmaker\texon\t508219\t508245\t.\t+\t.\ttranscript_id \"Niben101Scf01064g05007.1\"; gene_id \"Niben101Scf01064g05007\";\n",
      "Niben101Scf01064\tmaker\texon\t509505\t509680\t.\t+\t.\ttranscript_id \"Niben101Scf01064g05007.1\"; gene_id \"Niben101Scf01064g05007\";\n",
      "Niben101Scf01064\tmaker\texon\t511891\t512049\t.\t+\t.\ttranscript_id \"Niben101Scf01064g05007.1\"; gene_id \"Niben101Scf01064g05007\";\n",
      "Niben101Scf01064\tmaker\texon\t513075\t513366\t.\t+\t.\ttranscript_id \"Niben101Scf01064g05007.1\"; gene_id \"Niben101Scf01064g05007\";\n",
      "Niben101Scf01064\tmaker\tCDS\t508219\t508245\t.\t+\t0\ttranscript_id \"Niben101Scf01064g05007.1\"; gene_id \"Niben101Scf01064g05007\";\n",
      "Niben101Scf01064\tmaker\tCDS\t509505\t509680\t.\t+\t0\ttranscript_id \"Niben101Scf01064g05007.1\"; gene_id \"Niben101Scf01064g05007\";\n",
      "Niben101Scf01064\tmaker\tCDS\t511891\t512049\t.\t+\t1\ttranscript_id \"Niben101Scf01064g05007.1\"; gene_id \"Niben101Scf01064g05007\";\n",
      "Niben101Scf01064\tmaker\tCDS\t513075\t513366\t.\t+\t1\ttranscript_id \"Niben101Scf01064g05007.1\"; gene_id \"Niben101Scf01064g05007\";\n",
      "Niben101Scf01064\tmaker\texon\t568773\t570384\t.\t+\t.\ttranscript_id \"Niben101Scf01064g05002.1\"; geneID \"Niben101Scf01064g05002\";\n",
      "Niben101Scf01064\tmaker\texon\t570767\t570807\t.\t+\t.\ttranscript_id \"Niben101Scf01064g05002.1\"; geneID \"Niben101Scf01064g05002\";\n",
      "Niben101Scf01064\tmaker\tCDS\t568773\t570384\t.\t+\t0\ttranscript_id \"Niben101Scf01064g05002.1\"; geneID \"Niben101Scf01064g05002\";\n",
      "Niben101Scf01064\tmaker\tCDS\t570767\t570807\t.\t+\t2\ttranscript_id \"Niben101Scf01064g05002.1\"; geneID \"Niben101Scf01064g05002\";\n"
     ]
    }
   ],
   "source": [
    "# Convert the test.gff to gtf using cuffread to reproduce the problem\n",
    "/software/bioinformatics/cufflinks-2.2.1/gffread test.gff -T -o-"
   ]
  },
  {
   "cell_type": "code",
   "execution_count": 85,
   "metadata": {
    "collapsed": true
   },
   "outputs": [],
   "source": [
    "# I am unable to diagnose this problem. As a temporary solution, convert the gtf with a find-and-replace.\n",
    "sed 's/geneID/gene_ID/g' < $ANNOTGTF > ${PROJECT}/007.STAR/annotation//Niben101_annotation.gene_models_fixedg05002.gtf;\n"
   ]
  },
  {
   "cell_type": "code",
   "execution_count": 3,
   "metadata": {
    "collapsed": true
   },
   "outputs": [],
   "source": [
    "# Reset the $ANNOTGTF variable\n",
    "ANNOTGTF=${PROJECT}/007.STAR/annotation/Niben101_annotation.gene_models_fixedg05002.gtf"
   ]
  },
  {
   "cell_type": "code",
   "execution_count": 88,
   "metadata": {},
   "outputs": [
    {
     "name": "stdout",
     "output_type": "stream",
     "text": [
      "mkdir: cannot create directory ‘/workspace/hradxj/karmun_awesome_experiment/007.STAR’: File exists\n",
      "mkdir: cannot create directory ‘/workspace/hradxj/karmun_awesome_experiment/007.STAR/logs’: File exists\n",
      "mkdir: cannot create directory ‘/workspace/hradxj/karmun_awesome_experiment/007.STAR/annotation’: File exists\n",
      "mkdir: cannot create directory ‘/workspace/hradxj/karmun_awesome_experiment/007.STAR/genome’: File exists\n",
      "mkdir: cannot create directory ‘/workspace/hradxj/karmun_awesome_experiment/007.STAR/index’: File exists\n",
      "mkdir: cannot create directory ‘/workspace/hradxj/karmun_awesome_experiment/007.STAR/index/logs’: File exists\n",
      "mkdir: cannot create directory ‘/workspace/hradxj/karmun_awesome_experiment/007.STAR/Single_Pass_Results’: File exists\n",
      "mkdir: cannot create directory ‘/workspace/hradxj/karmun_awesome_experiment/007.STAR/Two_Pass_Results’: File exists\n",
      "module load STAR; STAR --runMode genomeGenerate --limitGenomeGenerateRAM 240000000000 --runThreadN 32 --genomeFastaFiles /workspace/hradxj/karmun_awesome_experiment/007.STAR/genome/Niben.genome.v1.0.1.scaffolds.nrcontigs.fasta --genomeDir /workspace/hradxj/karmun_awesome_experiment/007.STAR/index --sjdbGTFfile /workspace/hradxj/karmun_awesome_experiment/007.STAR/annotation/Niben101_annotation.gene_models_fixedg05002.gtf --sjdbGTFtagExonParentGene gene_id --sjdbGTFtagExonParentTranscript transcript_id; module unload STAR\n",
      "Job <687778> is submitted to default queue <normal>.\n"
     ]
    }
   ],
   "source": [
    "mkdir ${PROJECT}/007.STAR;\n",
    "mkdir ${PROJECT}/007.STAR/logs;\n",
    "mkdir ${PROJECT}/007.STAR/annotation;\n",
    "mkdir ${PROJECT}/007.STAR/genome;\n",
    "mkdir ${PROJECT}/007.STAR/index;\n",
    "mkdir ${PROJECT}/007.STAR/index/logs;\n",
    "mkdir ${PROJECT}/007.STAR/Single_Pass_Results;\n",
    "mkdir ${PROJECT}/007.STAR/Two_Pass_Results;\n",
    "\n",
    "GENOME=${PROJECT}/007.STAR/genome/Niben.genome.v1.0.1.scaffolds.nrcontigs.fasta;\n",
    "\n",
    "\n",
    "COMMAND=\"module load STAR; \\\n",
    "STAR \\\n",
    "--runMode genomeGenerate \\\n",
    "--limitGenomeGenerateRAM 240000000000 \\\n",
    "--runThreadN 32 \\\n",
    "--genomeFastaFiles $GENOME \\\n",
    "--genomeDir ${PROJECT}/007.STAR/index \\\n",
    "--sjdbGTFfile ${ANNOTGTF} \\\n",
    "--sjdbGTFtagExonParentGene gene_id \\\n",
    "--sjdbGTFtagExonParentTranscript transcript_id; \\\n",
    "module unload STAR\"\n",
    "echo $COMMAND;\n",
    "bsub \\\n",
    "-J STAR_Dan \\\n",
    "-o ${PROJECT}/007.STAR/index/logs/%J_STAR_index.out \\\n",
    "-e ${PROJECT}/007.STAR/index/logs/%J_STAR_index.err \\\n",
    "-n 32 \\\n",
    "$COMMAND\n",
    "#-m aklppb34 \\--sjdbGTFchrPrefix Niben101Ctg \\"
   ]
  },
  {
   "cell_type": "code",
   "execution_count": 89,
   "metadata": {},
   "outputs": [
    {
     "name": "stdout",
     "output_type": "stream",
     "text": [
      "<< output from stdout >>\n",
      "Dec 06 13:41:42 ..... started STAR run\n",
      "Dec 06 13:41:43 ... starting to generate Genome files\n",
      "Dec 06 13:43:51 ... starting to sort Suffix Array. This may take a long time...\n",
      "Dec 06 13:44:37 ... sorting Suffix Array chunks and saving them to disk...\n",
      "Dec 06 13:56:53 ... loading chunks from disk, packing SA...\n",
      "Dec 06 13:58:20 ... finished generating suffix array\n",
      "Dec 06 13:58:20 ... generating Suffix Array index\n",
      "Dec 06 14:03:13 ... completed Suffix Array index\n",
      "Dec 06 14:03:13 ..... processing annotations GTF\n",
      "Dec 06 14:03:19 ..... inserting junctions into the genome indices\n",
      "Dec 06 14:05:42 ... writing Genome to disk ...\n",
      "Dec 06 14:08:09 ... writing Suffix Array to disk ...\n",
      "Dec 06 14:11:27 ... writing SAindex to disk\n",
      "Dec 06 14:11:44 ..... finished successfully\n",
      "\n",
      "------------------------------------------------------------\n",
      "Sender: OpenLava System <openlava@wkoppb34>\n",
      "Subject: Job 687778: <STAR_Dan> Done\n",
      "\n",
      "Job <STAR_Dan> was submitted from host <aklppr31> by user <hradxj>.\n",
      "Job was executed on host(s) <24*wkoppb34>, in queue <normal>, as user <hradxj>.\n",
      "                            <4*aklppb32>\n",
      "                            <4*wkoppb36>\n",
      "</home/hradxj> was used as the home directory.\n",
      "</powerplant/workspace/hradxj/bioinf_karmun_awesome_experiment> was used as the working directory.\n",
      "Started at Wed Dec  6 13:41:42 2017\n",
      "Results reported at Wed Dec  6 14:11:48 2017\n",
      "\n",
      "Your job looked like:\n",
      "\n",
      "------------------------------------------------------------\n",
      "# LSBATCH: User input\n",
      "module load STAR; STAR --runMode genomeGenerate --limitGenomeGenerateRAM 240000000000 --runThreadN 32 --genomeFastaFiles /workspace/hradxj/karmun_awesome_experiment/007.STAR/genome/Niben.genome.v1.0.1.scaffolds.nrcontigs.fasta --genomeDir /workspace/hradxj/karmun_awesome_experiment/007.STAR/index --sjdbGTFfile /workspace/hradxj/karmun_awesome_experiment/007.STAR/annotation/Niben101_annotation.gene_models_fixedg05002.gtf --sjdbGTFtagExonParentGene gene_id --sjdbGTFtagExonParentTranscript transcript_id; module unload STAR\n",
      "------------------------------------------------------------\n",
      "\n",
      "Successfully completed.\n",
      "\n",
      "Resource usage summary:\n",
      "\n",
      "    CPU time   :  15182.42 sec.\n",
      "    Max Memory :     86372 MB\n",
      "    Max Swap   :    106822 MB\n",
      "\n",
      "    Max Processes  :         3\n",
      "\n",
      "The output (if any) is above this job summary.\n",
      "\n",
      "\n"
     ]
    }
   ],
   "source": [
    "bpeek -f 687778"
   ]
  },
  {
   "cell_type": "code",
   "execution_count": 90,
   "metadata": {
    "collapsed": true
   },
   "outputs": [],
   "source": [
    "#SANITY CHECK: did the index generation have any errors?\n",
    "cat ${PROJECT}/007.STAR/index/logs/687778_STAR_index.err;\n"
   ]
  },
  {
   "cell_type": "code",
   "execution_count": 91,
   "metadata": {},
   "outputs": [
    {
     "name": "stdout",
     "output_type": "stream",
     "text": [
      "Dec 06 13:41:42 ..... started STAR run\n",
      "Dec 06 13:41:43 ... starting to generate Genome files\n",
      "Dec 06 13:43:51 ... starting to sort Suffix Array. This may take a long time...\n",
      "Dec 06 13:44:37 ... sorting Suffix Array chunks and saving them to disk...\n",
      "Dec 06 13:56:53 ... loading chunks from disk, packing SA...\n",
      "Dec 06 13:58:20 ... finished generating suffix array\n",
      "Dec 06 13:58:20 ... generating Suffix Array index\n",
      "Dec 06 14:03:13 ... completed Suffix Array index\n",
      "Dec 06 14:03:13 ..... processing annotations GTF\n",
      "Dec 06 14:03:19 ..... inserting junctions into the genome indices\n",
      "Dec 06 14:05:42 ... writing Genome to disk ...\n",
      "Dec 06 14:08:09 ... writing Suffix Array to disk ...\n",
      "Dec 06 14:11:27 ... writing SAindex to disk\n",
      "Dec 06 14:11:44 ..... finished successfully\n",
      "\n",
      "------------------------------------------------------------\n",
      "Sender: OpenLava System <openlava@wkoppb34>\n",
      "Subject: Job 687778: <STAR_Dan> Done\n",
      "\n",
      "Job <STAR_Dan> was submitted from host <aklppr31> by user <hradxj>.\n",
      "Job was executed on host(s) <24*wkoppb34>, in queue <normal>, as user <hradxj>.\n",
      "                            <4*aklppb32>\n",
      "                            <4*wkoppb36>\n",
      "</home/hradxj> was used as the home directory.\n",
      "</powerplant/workspace/hradxj/bioinf_karmun_awesome_experiment> was used as the working directory.\n",
      "Started at Wed Dec  6 13:41:42 2017\n",
      "Results reported at Wed Dec  6 14:11:48 2017\n",
      "\n",
      "Your job looked like:\n",
      "\n",
      "------------------------------------------------------------\n",
      "# LSBATCH: User input\n",
      "module load STAR; STAR --runMode genomeGenerate --limitGenomeGenerateRAM 240000000000 --runThreadN 32 --genomeFastaFiles /workspace/hradxj/karmun_awesome_experiment/007.STAR/genome/Niben.genome.v1.0.1.scaffolds.nrcontigs.fasta --genomeDir /workspace/hradxj/karmun_awesome_experiment/007.STAR/index --sjdbGTFfile /workspace/hradxj/karmun_awesome_experiment/007.STAR/annotation/Niben101_annotation.gene_models_fixedg05002.gtf --sjdbGTFtagExonParentGene gene_id --sjdbGTFtagExonParentTranscript transcript_id; module unload STAR\n",
      "------------------------------------------------------------\n",
      "\n",
      "Successfully completed.\n",
      "\n",
      "Resource usage summary:\n",
      "\n",
      "    CPU time   :  15182.42 sec.\n",
      "    Max Memory :     86372 MB\n",
      "    Max Swap   :    106822 MB\n",
      "\n",
      "    Max Processes  :         3\n",
      "\n",
      "The output (if any) is above this job summary.\n",
      "\n"
     ]
    }
   ],
   "source": [
    "#SANITY CHECK: did the index generation work?\n",
    "cat ${PROJECT}/007.STAR/index/logs/687778_STAR_index.out;\n"
   ]
  },
  {
   "cell_type": "code",
   "execution_count": 92,
   "metadata": {},
   "outputs": [
    {
     "name": "stdout",
     "output_type": "stream",
     "text": [
      "RACP005_11_S11_L002_R1.fastq.gz  RACP005_1_S8_L002_R1.fastq.gz\n",
      "RACP005_11_S11_L002_R2.fastq.gz  RACP005_1_S8_L002_R2.fastq.gz\n",
      "RACP005_12_S12_L002_R1.fastq.gz  RACP005_5_S9_L002_R1.fastq.gz\n",
      "RACP005_12_S12_L002_R2.fastq.gz  RACP005_5_S9_L002_R2.fastq.gz\n",
      "RACP005_13_S13_L002_R1.fastq.gz  RACP005_8_S10_L002_R1.fastq.gz\n",
      "RACP005_13_S13_L002_R2.fastq.gz  RACP005_8_S10_L002_R2.fastq.gz\n"
     ]
    }
   ],
   "source": [
    "ls $RAW"
   ]
  },
  {
   "cell_type": "code",
   "execution_count": 93,
   "metadata": {},
   "outputs": [
    {
     "name": "stdout",
     "output_type": "stream",
     "text": [
      "total 44620497\n",
      "     546 chrLength.txt\t          26 genomeParameters.txt\n",
      "    1474 chrNameLength.txt         2 logs\n",
      "    1218 chrName.txt\t    24446922 SA\n",
      "     914 chrStart.txt\t     1822186 SAindex\n",
      "   11946 exonGeTrInfo.tab       8042 sjdbInfo.txt\n",
      "    4410 exonInfo.tab\t        8722 sjdbList.fromGTF.out.tab\n",
      "    1626 geneInfo.tab\t        8722 sjdbList.out.tab\n",
      "18299234 Genome\t\t        4514 transcriptInfo.tab\n"
     ]
    }
   ],
   "source": [
    "#SANITY CHECK:is there an index in the right place and is it a sensible size?\n",
    "ls -s ${INDEX}"
   ]
  },
  {
   "cell_type": "code",
   "execution_count": 95,
   "metadata": {},
   "outputs": [
    {
     "name": "stdout",
     "output_type": "stream",
     "text": [
      "logs\n",
      "RACP005_11_S11_L002_MERGED_trimmomatic_R1.fastq\n",
      "RACP005_11_S11_L002_MERGED_trimmomatic_R2.fastq\n",
      "RACP005_12_S12_L002_MERGED_trimmomatic_R1.fastq\n",
      "RACP005_12_S12_L002_MERGED_trimmomatic_R2.fastq\n",
      "RACP005_13_S13_L002_MERGED_trimmomatic_R1.fastq\n",
      "RACP005_13_S13_L002_MERGED_trimmomatic_R2.fastq\n",
      "RACP005_1_S8_L002_MERGED_trimmomatic_R1.fastq\n",
      "RACP005_1_S8_L002_MERGED_trimmomatic_R2.fastq\n",
      "RACP005_5_S9_L002_MERGED_trimmomatic_R1.fastq\n",
      "RACP005_5_S9_L002_MERGED_trimmomatic_R2.fastq\n",
      "RACP005_8_S10_L002_MERGED_trimmomatic_R1.fastq\n",
      "RACP005_8_S10_L002_MERGED_trimmomatic_R2.fastq\n",
      "unpaired\n"
     ]
    }
   ],
   "source": [
    "#Find trimmed reads\n",
    "ls ${PROJECT}/004.trimmomatic"
   ]
  },
  {
   "cell_type": "code",
   "execution_count": 117,
   "metadata": {
    "scrolled": false
   },
   "outputs": [
    {
     "name": "stdout",
     "output_type": "stream",
     "text": [
      "RACP005_11_S11_L002_MERGED_trimmomatic RACP005_12_S12_L002_MERGED_trimmomatic RACP005_13_S13_L002_MERGED_trimmomatic RACP005_1_S8_L002_MERGED_trimmomatic RACP005_5_S9_L002_MERGED_trimmomatic RACP005_8_S10_L002_MERGED_trimmomatic\n",
      "RACP005_11_S11_L002_MERGED_trimmomatic\n",
      "module load STAR; STAR --runThreadN 8 --genomeDir /workspace/hradxj/karmun_awesome_experiment/007.STAR/index --readFilesIn /workspace/hradxj/karmun_awesome_experiment/004.trimmomatic/RACP005_11_S11_L002_MERGED_trimmomatic_R1.fastq /workspace/hradxj/karmun_awesome_experiment/004.trimmomatic/RACP005_11_S11_L002_MERGED_trimmomatic_R2.fastq --sjdbGTFfile /workspace/hradxj/karmun_awesome_experiment/007.STAR/annotation/Niben101_annotation.gene_models_fixedg05002.gtf --sjdbGTFtagExonParentGene gene_id --sjdbGTFtagExonParentTranscript transcript_id --outFileNamePrefix /workspace/hradxj/karmun_awesome_experiment/007.STAR/Single_Pass_Results/RACP005_11_S11_L002_MERGED_trimmomatic.bam --quantMode TranscriptomeSAM GeneCounts --outStd BAM_SortedByCoordinate\n",
      "Job <687898> is submitted to queue <lowpriority>.\n",
      "RACP005_12_S12_L002_MERGED_trimmomatic\n",
      "module load STAR; STAR --runThreadN 8 --genomeDir /workspace/hradxj/karmun_awesome_experiment/007.STAR/index --readFilesIn /workspace/hradxj/karmun_awesome_experiment/004.trimmomatic/RACP005_12_S12_L002_MERGED_trimmomatic_R1.fastq /workspace/hradxj/karmun_awesome_experiment/004.trimmomatic/RACP005_12_S12_L002_MERGED_trimmomatic_R2.fastq --sjdbGTFfile /workspace/hradxj/karmun_awesome_experiment/007.STAR/annotation/Niben101_annotation.gene_models_fixedg05002.gtf --sjdbGTFtagExonParentGene gene_id --sjdbGTFtagExonParentTranscript transcript_id --outFileNamePrefix /workspace/hradxj/karmun_awesome_experiment/007.STAR/Single_Pass_Results/RACP005_12_S12_L002_MERGED_trimmomatic.bam --quantMode TranscriptomeSAM GeneCounts --outStd BAM_SortedByCoordinate\n",
      "Job <687899> is submitted to queue <lowpriority>.\n",
      "RACP005_13_S13_L002_MERGED_trimmomatic\n",
      "module load STAR; STAR --runThreadN 8 --genomeDir /workspace/hradxj/karmun_awesome_experiment/007.STAR/index --readFilesIn /workspace/hradxj/karmun_awesome_experiment/004.trimmomatic/RACP005_13_S13_L002_MERGED_trimmomatic_R1.fastq /workspace/hradxj/karmun_awesome_experiment/004.trimmomatic/RACP005_13_S13_L002_MERGED_trimmomatic_R2.fastq --sjdbGTFfile /workspace/hradxj/karmun_awesome_experiment/007.STAR/annotation/Niben101_annotation.gene_models_fixedg05002.gtf --sjdbGTFtagExonParentGene gene_id --sjdbGTFtagExonParentTranscript transcript_id --outFileNamePrefix /workspace/hradxj/karmun_awesome_experiment/007.STAR/Single_Pass_Results/RACP005_13_S13_L002_MERGED_trimmomatic.bam --quantMode TranscriptomeSAM GeneCounts --outStd BAM_SortedByCoordinate\n",
      "Job <687900> is submitted to queue <lowpriority>.\n",
      "RACP005_1_S8_L002_MERGED_trimmomatic\n",
      "module load STAR; STAR --runThreadN 8 --genomeDir /workspace/hradxj/karmun_awesome_experiment/007.STAR/index --readFilesIn /workspace/hradxj/karmun_awesome_experiment/004.trimmomatic/RACP005_1_S8_L002_MERGED_trimmomatic_R1.fastq /workspace/hradxj/karmun_awesome_experiment/004.trimmomatic/RACP005_1_S8_L002_MERGED_trimmomatic_R2.fastq --sjdbGTFfile /workspace/hradxj/karmun_awesome_experiment/007.STAR/annotation/Niben101_annotation.gene_models_fixedg05002.gtf --sjdbGTFtagExonParentGene gene_id --sjdbGTFtagExonParentTranscript transcript_id --outFileNamePrefix /workspace/hradxj/karmun_awesome_experiment/007.STAR/Single_Pass_Results/RACP005_1_S8_L002_MERGED_trimmomatic.bam --quantMode TranscriptomeSAM GeneCounts --outStd BAM_SortedByCoordinate\n",
      "Job <687901> is submitted to queue <lowpriority>.\n",
      "RACP005_5_S9_L002_MERGED_trimmomatic\n",
      "module load STAR; STAR --runThreadN 8 --genomeDir /workspace/hradxj/karmun_awesome_experiment/007.STAR/index --readFilesIn /workspace/hradxj/karmun_awesome_experiment/004.trimmomatic/RACP005_5_S9_L002_MERGED_trimmomatic_R1.fastq /workspace/hradxj/karmun_awesome_experiment/004.trimmomatic/RACP005_5_S9_L002_MERGED_trimmomatic_R2.fastq --sjdbGTFfile /workspace/hradxj/karmun_awesome_experiment/007.STAR/annotation/Niben101_annotation.gene_models_fixedg05002.gtf --sjdbGTFtagExonParentGene gene_id --sjdbGTFtagExonParentTranscript transcript_id --outFileNamePrefix /workspace/hradxj/karmun_awesome_experiment/007.STAR/Single_Pass_Results/RACP005_5_S9_L002_MERGED_trimmomatic.bam --quantMode TranscriptomeSAM GeneCounts --outStd BAM_SortedByCoordinate\n",
      "Job <687902> is submitted to queue <lowpriority>.\n",
      "RACP005_8_S10_L002_MERGED_trimmomatic\n",
      "module load STAR; STAR --runThreadN 8 --genomeDir /workspace/hradxj/karmun_awesome_experiment/007.STAR/index --readFilesIn /workspace/hradxj/karmun_awesome_experiment/004.trimmomatic/RACP005_8_S10_L002_MERGED_trimmomatic_R1.fastq /workspace/hradxj/karmun_awesome_experiment/004.trimmomatic/RACP005_8_S10_L002_MERGED_trimmomatic_R2.fastq --sjdbGTFfile /workspace/hradxj/karmun_awesome_experiment/007.STAR/annotation/Niben101_annotation.gene_models_fixedg05002.gtf --sjdbGTFtagExonParentGene gene_id --sjdbGTFtagExonParentTranscript transcript_id --outFileNamePrefix /workspace/hradxj/karmun_awesome_experiment/007.STAR/Single_Pass_Results/RACP005_8_S10_L002_MERGED_trimmomatic.bam --quantMode TranscriptomeSAM GeneCounts --outStd BAM_SortedByCoordinate\n",
      "Job <687903> is submitted to queue <lowpriority>.\n"
     ]
    }
   ],
   "source": [
    "TRIMMED=${PROJECT}/004.trimmomatic\n",
    "OUT_STAR=\"${PROJECT}/007.STAR/Single_Pass_Results\"\n",
    "INDEX=\"${PROJECT}/007.STAR/index\"\n",
    "mkdir -p ${OUT_STAR}\n",
    "PREFIXLIST=`basename -a ${TRIMMED}/*.fastq | sed 's/_R[1,2].fastq//g'|sort -u `\n",
    "echo $PREFIXLIST\n",
    "\n",
    "for PREFIX in ${PREFIXLIST}\n",
    "do\n",
    "echo $PREFIX\n",
    "R1=${TRIMMED}/${PREFIX}_R1.fastq\n",
    "R2=${TRIMMED}/${PREFIX}_R2.fastq\n",
    "\n",
    "\n",
    "COMMAND=\"module load STAR; \\\n",
    "            STAR \\\n",
    "            --runThreadN 8 \\\n",
    "            --genomeDir ${INDEX} \\\n",
    "            --readFilesIn ${R1} ${R2} \\\n",
    "            --sjdbGTFfile ${ANNOTGTF} \\\n",
    "            --sjdbGTFtagExonParentGene gene_id \\\n",
    "            --sjdbGTFtagExonParentTranscript transcript_id \\\n",
    "            --outFileNamePrefix ${OUT_STAR}/${PREFIX}.bam \\\n",
    "            --quantMode TranscriptomeSAM GeneCounts \\\n",
    "            --outStd BAM_SortedByCoordinate\"\n",
    "echo $COMMAND\n",
    "            \n",
    "bsub \\\n",
    "-J STAR \\\n",
    "-o ${LOG}/%J_STAR_index.out \\\n",
    "-e ${LOG}/%J_STAR_index.err \\\n",
    "-n 8 \\\n",
    "-q lowpriority \\\n",
    "$COMMAND\n",
    "done"
   ]
  },
  {
   "cell_type": "code",
   "execution_count": null,
   "metadata": {},
   "outputs": [
    {
     "name": "stdout",
     "output_type": "stream",
     "text": [
      "<< output from stdout >>\n"
     ]
    }
   ],
   "source": [
    "bpeek -f 687902"
   ]
  },
  {
   "cell_type": "code",
   "execution_count": 121,
   "metadata": {},
   "outputs": [
    {
     "name": "stdout",
     "output_type": "stream",
     "text": [
      "/workspace/hradxj/karmun_awesome_experiment/007.STAR/Single_Pass_Results/RACP005_11_S11_L002_MERGED_trimmomatic.bamSJ.out.tab /workspace/hradxj/karmun_awesome_experiment/007.STAR/Single_Pass_Results/RACP005_12_S12_L002_MERGED_trimmomatic.bamSJ.out.tab /workspace/hradxj/karmun_awesome_experiment/007.STAR/Single_Pass_Results/RACP005_13_S13_L002_MERGED_trimmomatic.bamSJ.out.tab /workspace/hradxj/karmun_awesome_experiment/007.STAR/Single_Pass_Results/RACP005_1_S8_L002_MERGED_trimmomatic.bamSJ.out.tab /workspace/hradxj/karmun_awesome_experiment/007.STAR/Single_Pass_Results/RACP005_5_S9_L002_MERGED_trimmomatic.bamSJ.out.tab /workspace/hradxj/karmun_awesome_experiment/007.STAR/Single_Pass_Results/RACP005_8_S10_L002_MERGED_trimmomatic.bamSJ.out.tab\n"
     ]
    }
   ],
   "source": [
    "# Run STAR in two-pass mode\n",
    "# Create list of files containing splice junctions\n",
    "SJLIST=$(ls ${PROJECT}/007.STAR/Single_Pass_Results/*SJ.out.tab)\n",
    "echo $SJLIST"
   ]
  },
  {
   "cell_type": "code",
   "execution_count": 122,
   "metadata": {},
   "outputs": [
    {
     "name": "stdout",
     "output_type": "stream",
     "text": [
      "RACP005_11_S11_L002_MERGED_trimmomatic RACP005_12_S12_L002_MERGED_trimmomatic RACP005_13_S13_L002_MERGED_trimmomatic RACP005_1_S8_L002_MERGED_trimmomatic RACP005_5_S9_L002_MERGED_trimmomatic RACP005_8_S10_L002_MERGED_trimmomatic\n",
      "RACP005_11_S11_L002_MERGED_trimmomatic\n",
      "Job <688654> is submitted to queue <lowpriority>.\n",
      "RACP005_12_S12_L002_MERGED_trimmomatic\n",
      "Job <688655> is submitted to queue <lowpriority>.\n",
      "RACP005_13_S13_L002_MERGED_trimmomatic\n",
      "Job <688656> is submitted to queue <lowpriority>.\n",
      "RACP005_1_S8_L002_MERGED_trimmomatic\n",
      "Job <688657> is submitted to queue <lowpriority>.\n",
      "RACP005_5_S9_L002_MERGED_trimmomatic\n",
      "Job <688658> is submitted to queue <lowpriority>.\n",
      "RACP005_8_S10_L002_MERGED_trimmomatic\n",
      "Job <688659> is submitted to queue <lowpriority>.\n"
     ]
    }
   ],
   "source": [
    "TRIMMED=${PROJECT}/004.trimmomatic\n",
    "INDEX=${PROJECT}/007.STAR/index\n",
    "OUT_STAR=${PROJECT}/007.STAR/Two_Pass_Results\n",
    "mkdir -p ${OUT_STAR}\n",
    "PREFIXLIST=`basename -a ${TRIMMED}/*.fastq | sed 's/_R[1,2].fastq//g'|sort -u `\n",
    "echo $PREFIXLIST\n",
    "\n",
    "for PREFIX in ${PREFIXLIST}\n",
    "do\n",
    "echo $PREFIX\n",
    "R1=${TRIMMED}/${PREFIX}_R1.fastq\n",
    "R2=${TRIMMED}/${PREFIX}_R2.fastq\n",
    "\n",
    "\n",
    "COMMAND=\"module load STAR; \\\n",
    "            STAR \\\n",
    "            --runThreadN 8 \\\n",
    "            --genomeDir ${INDEX} \\\n",
    "            --readFilesIn ${R1} ${R2} \\\n",
    "            --sjdbGTFfile ${ANNOTGTF} \\\n",
    "            --sjdbGTFtagExonParentGene gene_id \\\n",
    "            --sjdbGTFtagExonParentTranscript transcript_id \\\n",
    "            --outFileNamePrefix ${OUT_STAR}/${PREFIX}.bam \\\n",
    "            --sjdbFileChrStartEnd ${SJLIST} \\\n",
    "            --quantMode TranscriptomeSAM GeneCounts \\\n",
    "            --outStd BAM_SortedByCoordinate\"\n",
    "bsub \\\n",
    "-J STAR \\\n",
    "-o ${LOG}/%J_STAR_index.out \\\n",
    "-e ${LOG}/%J_STAR_index.err \\\n",
    "-n 8 \\\n",
    "-q lowpriority \\\n",
    "$COMMAND\n",
    "done"
   ]
  },
  {
   "cell_type": "code",
   "execution_count": null,
   "metadata": {},
   "outputs": [
    {
     "name": "stdout",
     "output_type": "stream",
     "text": [
      "<< output from stdout >>\n",
      "\n",
      "------------------------------------------------------------\n",
      "Sender: OpenLava System <openlava@aklppb32>\n",
      "Subject: Job 687038: <STAR> Done\n",
      "\n",
      "Job <STAR> was submitted from host <aklppr31> by user <hradxj>.\n",
      "Job was executed on host(s) <2*aklppb32>, in queue <lowpriority>, as user <hradxj>.\n",
      "                            <6*aklppb35>\n",
      "                            <24*wkoppb37>\n",
      "</home/hradxj> was used as the home directory.\n",
      "</powerplant/workspace/hradxj/bioinf_karmun_awesome_experiment> was used as the working directory.\n",
      "Started at Wed Dec  6 09:53:06 2017\n",
      "Results reported at Wed Dec  6 10:44:41 2017\n",
      "\n",
      "Your job looked like:\n",
      "\n",
      "------------------------------------------------------------\n",
      "# LSBATCH: User input\n",
      "module load STAR; STAR --runThreadN 8 --genomeDir /workspace/hradxj/karmun_awesome_experiment/007.STAR/index --readFilesIn /workspace/hradxj/karmun_awesome_experiment/004.trimmomatic/RACP005_11_S11_L002_MERGED_trimmomatic_R1.fastq /workspace/hradxj/karmun_awesome_experiment/004.trimmomatic/RACP005_11_S11_L002_MERGED_trimmomatic_R2.fastq --sjdbGTFfile /workspace/hradxj/karmun_awesome_experiment/007.STAR/annotation/Niben101_annotation.gene_models.gtf --sjdbGTFtagExonParentGene gene_id --sjdbGTFtagExonParentTranscript transcript_id --outFileNamePrefix /workspace/hradxj/karmun_awesome_experiment/007.STAR/Two_Pass_Results/RACP005_11_S11_L002_MERGED_trimmomatic.bam --sjdbFileChrStartEnd /workspace/hradxj/karmun_awesome_experiment/007.STAR/Single_Pass_Results/RACP005_11_S11_L002_MERGED_trimmomatic.bamSJ.out.tab /workspace/hradxj/karmun_awesome_experiment/007.STAR/Single_Pass_Results/RACP005_12_S12_L002_MERGED_trimmomatic.bamSJ.out.tab /workspace/hradxj/karmun_awesome_experiment/007.STAR/Single_Pass_Results/RACP005_13_S13_L002_MERGED_trimmomatic.bamSJ.out.tab /workspace/hradxj/karmun_awesome_experiment/007.STAR/Single_Pass_Results/RACP005_1_S8_L002_MERGED_trimmomatic.bamSJ.out.tab /workspace/hradxj/karmun_awesome_experiment/007.STAR/Single_Pass_Results/RACP005_5_S9_L002_MERGED_trimmomatic.bamSJ.out.tab /workspace/hradxj/karmun_awesome_experiment/007.STAR/Single_Pass_Results/RACP005_8_S10_L002_MERGED_trimmomatic.bamSJ.out.tab --quantMode GeneCounts --outStd BAM_SortedByCoordinate\n",
      "------------------------------------------------------------\n",
      "\n",
      "Successfully completed.\n",
      "\n",
      "Resource usage summary:\n",
      "\n",
      "    CPU time   :  17577.62 sec.\n",
      "    Max Memory :     43317 MB\n",
      "    Max Swap   :     45420 MB\n",
      "\n",
      "    Max Processes  :         3\n",
      "\n",
      "The output (if any) is above this job summary.\n",
      "\n"
     ]
    }
   ],
   "source": [
    "bpeek -f 687038"
   ]
  },
  {
   "cell_type": "code",
   "execution_count": 3,
   "metadata": {},
   "outputs": [
    {
     "name": "stdout",
     "output_type": "stream",
     "text": [
      "000.raw\t\t003.fastqc_smrna  006.MIA   009.STAR\t  10genes.txt  TEMP\n",
      "001.fastqc_raw\t004.trimmomatic   007.STAR  010.edgeR_Nb  Illumina.fa\n",
      "002.SMRNA\t005.fastqc_trim   008.MBA   011.edgeR_Vv  log\n"
     ]
    }
   ],
   "source": [
    "# Analysis of BAM files (reads mapped)\n",
    "ls $PROJECT\n"
   ]
  },
  {
   "cell_type": "markdown",
   "metadata": {
    "collapsed": true
   },
   "source": [
    "For this analysis, there are three samples:\n",
    "\n",
    "RACP005_11_S11_L002                 Benth-Healthy-1\n",
    "RACP005_12_S12_L002                 Benth-Healthy-2\n",
    "RACP005_13_S13_L002                 Benth-Infected\n",
    "\n",
    "Read counts have been generated by STAR. \n",
    "It is neccessary to create a single tab-delimited text file for import into R.\n",
    "\n",
    "In this case, STAR produces a table of read counts that has the following characteristics:\n",
    "\n",
    "1) The first four lines of the table contain information about the number of unmapped and multimapped reads.An example is shown below:\n",
    "\n",
    "```\n",
    "head RACP005_13_S13_L002_MERGED_trimmomatic.bamReadsPerGene.out.tab\n",
    "N_unmapped      24827661        24827661        24827661\n",
    "N_multimapping  6684546 6684546 6684546\n",
    "N_noFeature     7429471 7663155 34125351\n",
    "N_ambiguous     717277  256966  6802\n",
    "```\n",
    "These four lines are relevant but not used in the DE analysis, so should be removed.\n",
    "\n",
    "2) The columns are ordered as follows\n",
    "\n",
    "Gene name | Unstranded read counts | Sense strand read counts | Antisense strand read counts\n",
    "--- | --- | --- | ---\n",
    "\n",
    "We are interested in columns 1 and 3 (and column 4 if we choose to investigate antisense transcripts).\n",
    "\n",
    "Therefore we need to create a file that contains the gene names in column 1, and the Sense strand read counts from 3 samples in columns 2,3,4.\n"
   ]
  },
  {
   "cell_type": "code",
   "execution_count": 125,
   "metadata": {},
   "outputs": [
    {
     "name": "stdout",
     "output_type": "stream",
     "text": [
      "RACP005_11_S11_L002_MERGED_trimmomatic.bamReadsPerGene.out.tab\n",
      "RACP005_12_S12_L002_MERGED_trimmomatic.bamReadsPerGene.out.tab\n",
      "RACP005_13_S13_L002_MERGED_trimmomatic.bamReadsPerGene.out.tab\n"
     ]
    }
   ],
   "source": [
    "# Find location of read count files\n",
    "ls ${PROJECT}/007.STAR/Two_Pass_Results | grep ReadsPerGene"
   ]
  },
  {
   "cell_type": "code",
   "execution_count": 51,
   "metadata": {
    "collapsed": true
   },
   "outputs": [],
   "source": [
    "# First create a new file with one column of all gene names.\n",
    "\n",
    "mkdir -p ${PROJECT}/010.edgeR_Nb;\n",
    "\n",
    "cat ${PROJECT}/007.STAR/Two_Pass_Results/RACP005_11_S11_L002_MERGED_trimmomatic.bamReadsPerGene.out.tab |awk '{print $1}'\\\n",
    "> ${PROJECT}/010.edgeR_Nb/GRLaV3_Nb_EdgeR-genenames.tab;\n"
   ]
  },
  {
   "cell_type": "code",
   "execution_count": 52,
   "metadata": {
    "collapsed": true
   },
   "outputs": [],
   "source": [
    "# Now add the appropriate column\n",
    "# Create a list of read count file names\n",
    "READCOUNTFILELIST=$(ls ${PROJECT}/007.STAR/Two_Pass_Results | grep ReadsPerGene)\n",
    "\n",
    "\n",
    "for READCOUNTFILE in $READCOUNTFILELIST\n",
    "do\n",
    "awk '{print $3}' < ${PROJECT}/007.STAR/Two_Pass_Results/${READCOUNTFILE} > ${PROJECT}/010.edgeR_Nb/${READCOUNTFILE}.col3;\n",
    "done\n",
    "\n",
    "paste ${PROJECT}/010.edgeR_Nb/GRLaV3_Nb_EdgeR-genenames.tab \\\n",
    "${PROJECT}/010.edgeR_Nb/RACP005_11_S11_L002_MERGED_trimmomatic.bamReadsPerGene.out.tab.col3 \\\n",
    "${PROJECT}/010.edgeR_Nb/RACP005_12_S12_L002_MERGED_trimmomatic.bamReadsPerGene.out.tab.col3 \\\n",
    "${PROJECT}/010.edgeR_Nb/RACP005_13_S13_L002_MERGED_trimmomatic.bamReadsPerGene.out.tab.col3 \\\n",
    "> ${PROJECT}/010.edgeR_Nb/GRLaV3_Nb_EdgeR_with_unmapped.tab\n"
   ]
  },
  {
   "cell_type": "code",
   "execution_count": 53,
   "metadata": {},
   "outputs": [
    {
     "name": "stdout",
     "output_type": "stream",
     "text": [
      "N_unmapped\t11575247\t1193884\t24827661\n",
      "N_multimapping\t6457575\t575648\t6684546\n",
      "N_noFeature\t6314912\t701699\t7663155\n",
      "N_ambiguous\t219454\t21609\t256966\n",
      "Niben101Ctg00054g00001\t55\t23\t79\n",
      "Niben101Ctg00074g00004\t0\t0\t0\n",
      "Niben101Ctg00116g00002\t65\t17\t133\n",
      "Niben101Ctg00129g00001\t0\t0\t0\n",
      "Niben101Ctg00141g00002\t1\t0\t1\n",
      "Niben101Ctg00174g00001\t0\t0\t0\n"
     ]
    }
   ],
   "source": [
    "head ${PROJECT}/010.edgeR_Nb/GRLaV3_Nb_EdgeR_with_unmapped.tab\n"
   ]
  },
  {
   "cell_type": "code",
   "execution_count": 54,
   "metadata": {
    "collapsed": true
   },
   "outputs": [],
   "source": [
    "tail -59814  ${PROJECT}/010.edgeR_Nb/GRLaV3_Nb_EdgeR_with_unmapped.tab >  ${PROJECT}/010.edgeR_Nb/GRLaV3_Nb_EdgeR.tab\n"
   ]
  },
  {
   "cell_type": "code",
   "execution_count": 55,
   "metadata": {
    "collapsed": true
   },
   "outputs": [],
   "source": [
    "# Add header line\n",
    "\n",
    "sed -i '1s/^/Gene\\tBenth-Healthy-1\\tBenth-Healthy-2\\tBenth-Infected\\n/' ${PROJECT}/010.edgeR_Nb/GRLaV3_Nb_EdgeR.tab;\n"
   ]
  },
  {
   "cell_type": "code",
   "execution_count": 56,
   "metadata": {},
   "outputs": [
    {
     "name": "stdout",
     "output_type": "stream",
     "text": [
      "Gene\tBenth-Healthy-1\tBenth-Healthy-2\tBenth-Infected\n",
      "Niben101Ctg00054g00001\t55\t23\t79\n",
      "Niben101Ctg00074g00004\t0\t0\t0\n",
      "Niben101Ctg00116g00002\t65\t17\t133\n",
      "Niben101Ctg00129g00001\t0\t0\t0\n",
      "Niben101Ctg00141g00002\t1\t0\t1\n",
      "Niben101Ctg00174g00001\t0\t0\t0\n",
      "Niben101Ctg00192g00001\t0\t0\t0\n",
      "Niben101Ctg00219g00002\t3\t1\t4\n",
      "Niben101Ctg00228g00001\t43\t5\t53\n"
     ]
    }
   ],
   "source": [
    "# Check final formatting of file\n",
    "head ${PROJECT}/010.edgeR_Nb/GRLaV3_Nb_EdgeR.tab\n",
    "# We are now ready to analyse this in EdgeR"
   ]
  },
  {
   "cell_type": "code",
   "execution_count": 75,
   "metadata": {},
   "outputs": [
    {
     "name": "stdout",
     "output_type": "stream",
     "text": [
      "Niben101Scf00107g03008 Niben101Scf05044g02012 Niben101Scf00837g08001 Niben101Scf03937g00009 Niben101Scf06977g00014 Niben101Scf03169g00010 Niben101Scf01475g00019 Niben101Scf03506g03001 Niben101Scf02971g01006 Niben101Scf08683g00001\n"
     ]
    }
   ],
   "source": [
    "# We have derived a set of putatively differentially expressed genes. Examine the raw read counts as a sanity check\n",
    "\n",
    "DEGENELIST=\"Niben101Scf00107g03008 Niben101Scf05044g02012 Niben101Scf00837g08001 Niben101Scf03937g00009 Niben101Scf06977g00014 Niben101Scf03169g00010 Niben101Scf01475g00019 Niben101Scf03506g03001 Niben101Scf02971g01006 Niben101Scf08683g00001\"\n",
    "echo $DEGENELIST\n",
    "\n"
   ]
  },
  {
   "cell_type": "code",
   "execution_count": 76,
   "metadata": {},
   "outputs": [
    {
     "name": "stdout",
     "output_type": "stream",
     "text": [
      "Niben101Scf00107g03008\n",
      "Benth-healthy-1\n",
      "10\n",
      "Benth-healthy-2\n",
      "3\n",
      "Benth-infected\n",
      "2328\n",
      "Niben101Scf05044g02012\n",
      "Benth-healthy-1\n",
      "3\n",
      "Benth-healthy-2\n",
      "1\n",
      "Benth-infected\n",
      "581\n",
      "Niben101Scf00837g08001\n",
      "Benth-healthy-1\n",
      "1053\n",
      "Benth-healthy-2\n",
      "7\n",
      "Benth-infected\n",
      "7\n",
      "Niben101Scf03937g00009\n",
      "Benth-healthy-1\n",
      "11\n",
      "Benth-healthy-2\n",
      "6\n",
      "Benth-infected\n",
      "1150\n",
      "Niben101Scf06977g00014\n",
      "Benth-healthy-1\n",
      "5068\n",
      "Benth-healthy-2\n",
      "23\n",
      "Benth-infected\n",
      "40\n",
      "Niben101Scf03169g00010\n",
      "Benth-healthy-1\n",
      "1192\n",
      "Benth-healthy-2\n",
      "6\n",
      "Benth-infected\n",
      "15\n",
      "Niben101Scf01475g00019\n",
      "Benth-healthy-1\n",
      "696\n",
      "Benth-healthy-2\n",
      "0\n",
      "Benth-infected\n",
      "8\n",
      "Niben101Scf03506g03001\n",
      "Benth-healthy-1\n",
      "24\n",
      "Benth-healthy-2\n",
      "2\n",
      "Benth-infected\n",
      "777\n",
      "Niben101Scf02971g01006\n",
      "Benth-healthy-1\n",
      "162\n",
      "Benth-healthy-2\n",
      "9\n",
      "Benth-infected\n",
      "0\n",
      "Niben101Scf08683g00001\n",
      "Benth-healthy-1\n",
      "1149\n",
      "Benth-healthy-2\n",
      "7\n",
      "Benth-infected\n",
      "22\n"
     ]
    }
   ],
   "source": [
    "for DEGENE in $DEGENELIST\n",
    "do\n",
    "grep $DEGENE < ${PROJECT}/007.STAR/Two_Pass_Results/RACP005_11_S11_L002_MERGED_trimmomatic.bamReadsPerGene.out.tab | awk '{print $1}'\n",
    "echo \"Benth-healthy-1\"\n",
    "grep $DEGENE < ${PROJECT}/007.STAR/Two_Pass_Results/RACP005_11_S11_L002_MERGED_trimmomatic.bamReadsPerGene.out.tab | awk '{print $3}'\n",
    "echo \"Benth-healthy-2\"\n",
    "grep $DEGENE < ${PROJECT}/007.STAR/Two_Pass_Results/RACP005_12_S12_L002_MERGED_trimmomatic.bamReadsPerGene.out.tab | awk '{print $3}'\n",
    "echo \"Benth-infected\"\n",
    "grep $DEGENE < ${PROJECT}/007.STAR/Two_Pass_Results/RACP005_13_S13_L002_MERGED_trimmomatic.bamReadsPerGene.out.tab | awk '{print $3}'\n",
    "\n",
    "done"
   ]
  },
  {
   "cell_type": "code",
   "execution_count": null,
   "metadata": {
    "collapsed": true
   },
   "outputs": [],
   "source": []
  }
 ],
 "metadata": {
  "kernelspec": {
   "display_name": "Bash",
   "language": "bash",
   "name": "bash"
  },
  "language_info": {
   "codemirror_mode": "shell",
   "file_extension": ".sh",
   "mimetype": "text/x-sh",
   "name": "bash"
  }
 },
 "nbformat": 4,
 "nbformat_minor": 1
}
