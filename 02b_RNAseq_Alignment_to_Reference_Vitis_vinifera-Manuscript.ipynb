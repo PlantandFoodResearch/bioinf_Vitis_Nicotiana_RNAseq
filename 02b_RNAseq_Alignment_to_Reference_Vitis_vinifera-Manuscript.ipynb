{
 "cells": [
  {
   "cell_type": "markdown",
   "metadata": {},
   "source": [
    "# <u>RNA-Seq Analysis Phase IIa: Alignment to Reference Genome</u>\n",
    "## This Notebook illustrates how to align paired-end RNA-Seq reads <br>that have already been processed through the QC pipeline.\n",
    "#### Last Revision: July 2017\n",
    "#### Author: Charles David\n",
    "#### This analysis done by Dan Jones and Karmun Chooi"
   ]
  },
  {
   "cell_type": "markdown",
   "metadata": {},
   "source": [
    "## <u>Step I: Establish Data Management Structure on PowerPlant (Continuing from the QC part)</u>\n",
    "\n",
    "Already completed in the QC notebook"
   ]
  },
  {
   "cell_type": "markdown",
   "metadata": {},
   "source": [
    "## <u>Step II, Part 1: Get the Genome and Annotation Files to be Used in the Alignment Process</u>\n",
    "##### Note that best results are obtained if the reference is good quality and closely related, with annotations"
   ]
  },
  {
   "cell_type": "markdown",
   "metadata": {},
   "source": [
    "### Define Project Variables:\n",
    "* Note that we are using the latest version of STAR: 2.5.2b\n",
    "* We are also using the latest version of Picard Tools: 2.9.4"
   ]
  },
  {
   "cell_type": "code",
   "execution_count": 90,
   "metadata": {
    "collapsed": true
   },
   "outputs": [],
   "source": [
    "# Define the user as a variable\n",
    "USER=\"hradxj\"\n",
    "PROJECTNAME=\"Vitis_Nicotiana_experiment\"\n",
    "# Define the project directory and temp subdirectory as a variable\n",
    "\n",
    "PROJECT=\"/workspace/$USER/$PROJECTNAME\"\n",
    "TEMP=\"$PROJECT/TEMP\"\n",
    "\n",
    "mkdir -p ${PROJECT}/009.STAR\n",
    "mkdir -p ${PROJECT}/009.STAR/logs\n",
    "mkdir -p ${PROJECT}/009.STAR/annotation\n",
    "mkdir -p ${PROJECT}/009.STAR/genome\n",
    "mkdir -p ${PROJECT}/009.STAR/index\n",
    "mkdir -p ${PROJECT}/009.STAR/index/logs\n",
    "mkdir -p ${PROJECT}/009.STAR/Single_Pass_Results\n",
    "mkdir -p ${PROJECT}/009.STAR/Two_Pass_Results\n",
    "\n",
    "ln -s /workspace/ComparativeDataSources/Vitis/vinifera/Genoscope_12X/Genes/Vitis_vinifera_annotation.gff3 ${PROJECT}/009.STAR/annotation\n",
    "ln -s /workspace/ComparativeDataSources/Vitis/vinifera/Genoscope_12X/Genome/reference.fasta ${PROJECT}/009.STAR/genome\n",
    "\n",
    "ANNOT=${PROJECT}/009.STAR/annotation/Vitis_vinifera_annotation.gff3\n",
    "ANNOTGTF=${PROJECT}/009.STAR/annotation/Vitis_vinifera_annotation.gtf\n",
    "GENOME=${PROJECT}/009.STAR/genome/reference.fasta"
   ]
  },
  {
   "cell_type": "markdown",
   "metadata": {},
   "source": [
    "## <u>Step II, Part 2: Index the Genome Using STAR</u>\n",
    "* The inputs to this step are the genome as a multi FASTA file and the annotations as a GFF or GTF file\n",
    "* The outputs include the genome index files used in the alignment steps"
   ]
  },
  {
   "cell_type": "markdown",
   "metadata": {},
   "source": [
    "Convert gff3 to gtf for use with STAR"
   ]
  },
  {
   "cell_type": "code",
   "execution_count": 1,
   "metadata": {},
   "outputs": [],
   "source": [
    "/software/bioinformatics/cufflinks-2.2.1/gffread $ANNOT -g $GENOME -T -o $ANNOTGTF"
   ]
  },
  {
   "cell_type": "code",
   "execution_count": 2,
   "metadata": {},
   "outputs": [],
   "source": [
    "COMMAND=\"module load STAR; \\\n",
    "STAR \\\n",
    "--runMode genomeGenerate \\\n",
    "--limitGenomeGenerateRAM 240000000000 \\\n",
    "--runThreadN 32 \\\n",
    "--genomeFastaFiles $GENOME \\\n",
    "--sjdbGTFfile ${ANNOTGTF} \\\n",
    "--sjdbGTFtagExonParentTranscript transcript_id \\\n",
    "--sjdbGTFtagExonParentGene gene_id \\\n",
    "--genomeDir ${PROJECT}/009.STAR/index; \\\n",
    "module unload STAR\"\n",
    "echo $COMMAND;\n",
    "bsub \\\n",
    "-J STAR_Dan \\\n",
    "-o ${PROJECT}/009.STAR/index/logs/%J_STAR_index.out \\\n",
    "-e ${PROJECT}/009.STAR/index/logs/%J_STAR_index.err \\\n",
    "-n 32 \\\n",
    "-q lowpriority \\\n",
    "$COMMAND"
   ]
  },
  {
   "cell_type": "markdown",
   "metadata": {},
   "source": [
    "This uses genome version (1.68.5) and model version (15...34)"
   ]
  },
  {
   "cell_type": "code",
   "execution_count": 125,
   "metadata": {},
   "outputs": [
    {
     "name": "stdout",
     "output_type": "stream",
     "text": [
      "logs\n",
      "RACP005_11_S11_L002_MERGED_trimmomatic_R1.fastq\n",
      "RACP005_11_S11_L002_MERGED_trimmomatic_R2.fastq\n",
      "RACP005_12_S12_L002_MERGED_trimmomatic_R1.fastq\n",
      "RACP005_12_S12_L002_MERGED_trimmomatic_R2.fastq\n",
      "RACP005_13_S13_L002_MERGED_trimmomatic_R1.fastq\n",
      "RACP005_13_S13_L002_MERGED_trimmomatic_R2.fastq\n",
      "RACP005_1_S8_L002_MERGED_trimmomatic_R1.fastq\n",
      "RACP005_1_S8_L002_MERGED_trimmomatic_R2.fastq\n",
      "RACP005_5_S9_L002_MERGED_trimmomatic_R1.fastq\n",
      "RACP005_5_S9_L002_MERGED_trimmomatic_R2.fastq\n",
      "RACP005_8_S10_L002_MERGED_trimmomatic_R1.fastq\n",
      "RACP005_8_S10_L002_MERGED_trimmomatic_R2.fastq\n",
      "unpaired\n"
     ]
    }
   ],
   "source": [
    "#Find input trimmed rRNA removed reads\n",
    "ls ${PROJECT}/004.trimmomatic"
   ]
  },
  {
   "cell_type": "code",
   "execution_count": 3,
   "metadata": {},
   "outputs": [],
   "source": [
    "TRIMMED=${PROJECT}/004.trimmomatic\n",
    "INDEX=${PROJECT}/009.STAR/index\n",
    "OUT_STAR=${PROJECT}/009.STAR/Single_Pass_Results\n",
    "mkdir -p ${OUT_STAR}\n",
    "PREFIXLIST=`basename -a ${TRIMMED}/*.fastq | sed 's/_R[1,2].fastq//g'|sort -u `\n",
    "echo $PREFIXLIST\n",
    "\n",
    "for PREFIX in ${PREFIXLIST}\n",
    "do\n",
    "echo $PREFIX\n",
    "R1=${TRIMMED}/${PREFIX}_R1.fastq\n",
    "R2=${TRIMMED}/${PREFIX}_R2.fastq\n",
    "\n",
    "\n",
    "COMMAND=\"module load STAR; \\\n",
    "            STAR \\\n",
    "            --runThreadN 8 \\\n",
    "            --genomeDir ${INDEX} \\\n",
    "            --readFilesIn ${R1} ${R2} \\\n",
    "            --sjdbGTFfile ${ANNOTGTF} \\\n",
    "            --sjdbGTFtagExonParentGene gene_id \\\n",
    "            --sjdbGTFtagExonParentTranscript transcript_id \\\n",
    "            --outFileNamePrefix ${OUT_STAR}/${PREFIX}.bam \\\n",
    "            --quantMode TranscriptomeSAM GeneCounts \\\n",
    "            --outStd BAM_SortedByCoordinate\"\n",
    "bsub \\\n",
    "-J STAR \\\n",
    "-o ${LOG}/%J_STAR_index.out \\\n",
    "-e ${LOG}/%J_STAR_index.err \\\n",
    "-n 8 \\\n",
    "-q lowpriority \\\n",
    "$COMMAND\n",
    "done"
   ]
  },
  {
   "cell_type": "code",
   "execution_count": 4,
   "metadata": {},
   "outputs": [],
   "source": [
    "# # Run STAR in two-pass mode\n",
    "# # Create list of files containing splice junctions\n",
    "SJLIST=$(ls ${PROJECT}/009.STAR/Single_Pass_Results/*SJ.out.tab)"
   ]
  },
  {
   "cell_type": "code",
   "execution_count": 5,
   "metadata": {},
   "outputs": [],
   "source": [
    "TRIMMED=${PROJECT}/004.trimmomatic\n",
    "INDEX=${PROJECT}/009.STAR/index\n",
    "OUT_STAR=${PROJECT}/009.STAR/Two_Pass_Results\n",
    "mkdir -p ${OUT_STAR}\n",
    "PREFIXLIST=`basename -a ${TRIMMED}/*.fastq | sed 's/_R[1,2].fastq//g'|sort -u `\n",
    "echo $PREFIXLIST\n",
    "\n",
    "for PREFIX in ${PREFIXLIST}\n",
    "do\n",
    "echo $PREFIX\n",
    "R1=${TRIMMED}/${PREFIX}_R1.fastq\n",
    "R2=${TRIMMED}/${PREFIX}_R2.fastq\n",
    "\n",
    "\n",
    "COMMAND=\"module load STAR; \\\n",
    "            STAR \\\n",
    "            --runThreadN 8 \\\n",
    "            --genomeDir ${INDEX} \\\n",
    "            --readFilesIn ${R1} ${R2} \\\n",
    "            --sjdbGTFfile ${ANNOTGTF} \\\n",
    "            --sjdbGTFtagExonParentGene gene_id \\\n",
    "            --sjdbGTFtagExonParentTranscript transcript_id \\\n",
    "            --outFileNamePrefix ${OUT_STAR}/${PREFIX}.bam \\\n",
    "            --sjdbFileChrStartEnd ${SJLIST} \\\n",
    "            --quantMode GeneCounts \\\n",
    "            --outStd BAM_SortedByCoordinate\"\n",
    "bsub \\\n",
    "-J STAR \\\n",
    "-o ${LOG}/%J_STAR_index.out \\\n",
    "-e ${LOG}/%J_STAR_index.err \\\n",
    "-n 32 \\\n",
    "-q lowpriority \\\n",
    "$COMMAND\n",
    "done"
   ]
  },
  {
   "cell_type": "code",
   "execution_count": 128,
   "metadata": {},
   "outputs": [
    {
     "name": "stdout",
     "output_type": "stream",
     "text": [
      "RACP005_1_S8_L002_MERGED_trimmomatic.bamReadsPerGene.out.tab\n",
      "RACP005_5_S9_L002_MERGED_trimmomatic.bamReadsPerGene.out.tab\n",
      "RACP005_8_S10_L002_MERGED_trimmomatic.bamReadsPerGene.out.tab\n"
     ]
    }
   ],
   "source": [
    "# Find location of read count files\n",
    "ls ${PROJECT}/009.STAR/Two_Pass_Results | grep ReadsPerGene"
   ]
  },
  {
   "cell_type": "code",
   "execution_count": 153,
   "metadata": {
    "collapsed": true
   },
   "outputs": [],
   "source": [
    "# First create a new file with one column of all gene names. Do this for two files, one for sense\n",
    "# and one for antisense\n",
    "mkdir -p ${PROJECT}/011.edgeR_Vv;\n",
    "\n",
    "cat ${PROJECT}/009.STAR/Two_Pass_Results/RACP005_1_S8_L002_MERGED_trimmomatic.bamReadsPerGene.out.tab |awk '{print $1}'\\\n",
    "> ${PROJECT}/011.edgeR_Vv/GRLaV3_Vv_EdgeR-genenames.tab;"
   ]
  },
  {
   "cell_type": "code",
   "execution_count": 154,
   "metadata": {
    "collapsed": true
   },
   "outputs": [],
   "source": [
    "# Now add the appropriate column\n",
    "# Create a list of read count file names\n",
    "READCOUNTFILELIST=$(ls ${PROJECT}/009.STAR/Two_Pass_Results | grep ReadsPerGene)\n",
    "\n",
    "\n",
    "for READCOUNTFILE in $READCOUNTFILELIST\n",
    "do\n",
    "awk '{print $3}' < ${PROJECT}/009.STAR/Two_Pass_Results/${READCOUNTFILE} > ${PROJECT}/011.edgeR_Vv/${READCOUNTFILE}.col3;\n",
    "done\n",
    "\n",
    "paste ${PROJECT}/011.edgeR_Vv/GRLaV3_Vv_EdgeR-genenames.tab \\\n",
    "${PROJECT}/011.edgeR_Vv/RACP005_1_S8_L002_MERGED_trimmomatic.bamReadsPerGene.out.tab.col3 \\\n",
    "${PROJECT}/011.edgeR_Vv/RACP005_5_S9_L002_MERGED_trimmomatic.bamReadsPerGene.out.tab.col3 \\\n",
    "${PROJECT}/011.edgeR_Vv/RACP005_8_S10_L002_MERGED_trimmomatic.bamReadsPerGene.out.tab.col3 \\\n",
    "> ${PROJECT}/011.edgeR_Vv/GRLaV3_Vv_EdgeR_with_unmapped.tab\n"
   ]
  },
  {
   "cell_type": "markdown",
   "metadata": {},
   "source": [
    "For this analysis, there are three samples:\n",
    "\n",
    "RACP005_1_S8_L0022                 Grape-Healthy\n",
    "RACP005_5_S9_L002                  Grape-Infected-1\n",
    "RACP005_8_S10_L002                 Grape-Infected-2\n",
    "\n",
    "Read counts have been generated by STAR. \n",
    "It is neccessary to create a single tab-delimited text file for import into R.\n",
    "\n",
    "In this case, STAR produces a table of read counts that has the following characteristics:\n",
    "\n",
    "1) The first four lines of the table contain information about the number of unmapped and multimapped reads.An example is shown below:\n",
    "\n",
    "These four lines are relevant but not used in the DE analysis, so should be removed.\n",
    "\n",
    "2) The columns are ordered as follows\n",
    "\n",
    "Gene name | Unstranded read counts | Sense strand read counts | Antisense strand read counts\n",
    "--- | --- | --- | ---\n",
    "\n",
    "We are interested in columns 1 and 3 (and column 4 if we choose to investigate antisense transcripts).\n",
    "\n",
    "Therefore we need to create a file that contains the gene names in column 1, and the Sense strand read counts from 3 samples in columns 2,3,4.\n"
   ]
  },
  {
   "cell_type": "code",
   "execution_count": 156,
   "metadata": {},
   "outputs": [
    {
     "name": "stdout",
     "output_type": "stream",
     "text": [
      "N_unmapped\t5053374\t11312084\t3028748\n",
      "N_multimapping\t1917215\t2934146\t514757\n",
      "N_noFeature\t4601554\t10738708\t1439012\n",
      "N_ambiguous\t78822\t288253\t24490\n",
      "GSVIVG01012261001\t14\t37\t1\n",
      "GSVIVG01012259001\t6\t18\t1\n",
      "GSVIVG01012257001\t311\t1151\t151\n",
      "GSVIVG01012255001\t755\t1819\t234\n",
      "GSVIVG01012253001\t1\t0\t0\n",
      "GSVIVG01012250001\t0\t0\t0\n"
     ]
    }
   ],
   "source": [
    "head  ${PROJECT}/011.edgeR_Vv/GRLaV3_Vv_EdgeR_with_unmapped.tab"
   ]
  },
  {
   "cell_type": "code",
   "execution_count": 157,
   "metadata": {},
   "outputs": [
    {
     "name": "stdout",
     "output_type": "stream",
     "text": [
      "19763 /workspace/hradxj/karmun_awesome_experiment/011.edgeR_Vv/GRLaV3_Vv_EdgeR_with_unmapped.tab\n"
     ]
    }
   ],
   "source": [
    "wc -l  ${PROJECT}/011.edgeR_Vv/GRLaV3_Vv_EdgeR_with_unmapped.tab"
   ]
  },
  {
   "cell_type": "code",
   "execution_count": 158,
   "metadata": {
    "collapsed": true
   },
   "outputs": [],
   "source": [
    "tail -19759 ${PROJECT}/011.edgeR_Vv/GRLaV3_Vv_EdgeR_with_unmapped.tab > ${PROJECT}/011.edgeR_Vv/GRLaV3_Vv_EdgeR.tab"
   ]
  },
  {
   "cell_type": "code",
   "execution_count": 159,
   "metadata": {
    "collapsed": true
   },
   "outputs": [],
   "source": [
    "sed -i '1s/^/Gene\\tGrape-Healthy\\tGrape-Infected-1\\tGrape-Infected-2\\n/' ${PROJECT}/011.edgeR_Vv/GRLaV3_Vv_EdgeR.tab;"
   ]
  },
  {
   "cell_type": "code",
   "execution_count": 160,
   "metadata": {},
   "outputs": [
    {
     "name": "stdout",
     "output_type": "stream",
     "text": [
      "Gene\tGrape-Healthy\tGrape-Infected-1\tGrape-Infected-2\n",
      "GSVIVG01012261001\t14\t37\t1\n",
      "GSVIVG01012259001\t6\t18\t1\n",
      "GSVIVG01012257001\t311\t1151\t151\n",
      "GSVIVG01012255001\t755\t1819\t234\n",
      "GSVIVG01012253001\t1\t0\t0\n",
      "GSVIVG01012250001\t0\t0\t0\n",
      "GSVIVG01012249001\t0\t0\t0\n",
      "GSVIVG01012247001\t32\t32\t6\n",
      "GSVIVG01012246001\t0\t0\t0\n"
     ]
    }
   ],
   "source": [
    "head ${PROJECT}/011.edgeR_Vv/GRLaV3_Vv_EdgeR.tab;"
   ]
  },
  {
   "cell_type": "markdown",
   "metadata": {
    "collapsed": true
   },
   "source": [
    "We have derived a set of raw read counts. These are the inputs to the downstream RMarkdown notebooks."
   ]
  },
  {
   "cell_type": "code",
   "execution_count": 8,
   "metadata": {},
   "outputs": [
    {
     "name": "stdout",
     "output_type": "stream",
     "text": [
      "[NbConvertApp] Converting notebook /workspace/hradxj/bioinf_Vitis_Nicotiana_RNAseq/02b_RNAseq_Alignment_to_Reference_Vitis_vinifera-Manuscript.ipynb to markdown\n",
      "[NbConvertApp] Writing 9332 bytes to /workspace/hradxj/bioinf_Vitis_Nicotiana_RNAseq/02b_RNAseq_Alignment_to_Reference_Vitis_vinifera-Manuscript.md\n",
      "[NbConvertApp] Converting notebook /workspace/hradxj/bioinf_Vitis_Nicotiana_RNAseq/02b_RNAseq_Alignment_to_Reference_Vitis_vinifera-Manuscript.ipynb to html\n",
      "[NbConvertApp] Writing 276881 bytes to /workspace/hradxj/bioinf_Vitis_Nicotiana_RNAseq/02b_RNAseq_Alignment_to_Reference_Vitis_vinifera-Manuscript.html\n"
     ]
    }
   ],
   "source": [
    "# Render notebook to html and markdown\n",
    "module load pfr-python3\n",
    "jupyter nbconvert --to markdown /workspace/$USER/bioinf_Vitis_Nicotiana_RNAseq/02b_RNAseq_Alignment_to_Reference_Vitis_vinifera-Manuscript.ipynb\n",
    "jupyter nbconvert --to html /workspace/$USER/bioinf_Vitis_Nicotiana_RNAseq/02b_RNAseq_Alignment_to_Reference_Vitis_vinifera-Manuscript.ipynb\n",
    "module unload pfr-python3"
   ]
  }
 ],
 "metadata": {
  "kernelspec": {
   "display_name": "Bash",
   "language": "bash",
   "name": "bash"
  },
  "language_info": {
   "codemirror_mode": "shell",
   "file_extension": ".sh",
   "mimetype": "text/x-sh",
   "name": "bash"
  }
 },
 "nbformat": 4,
 "nbformat_minor": 1
}
