{
 "cells": [
  {
   "cell_type": "markdown",
   "metadata": {},
   "source": [
    "# <u>RNA-Seq Analysis Phase I: Quality Control\n",
    "## <i>This Notebook Performs QC on Paired-End RNA-Seq Data</i>\n",
    "#### Last Revision: July  2017\n",
    "#### Author: Charles David and Dan Jones\n",
    "#### This analysis done by Dan Jones and Karmun Chooi"
   ]
  },
  {
   "cell_type": "markdown",
   "metadata": {},
   "source": [
    "This version of the workflow has been simplified for inclusion into a manuscript. It contains all code required to replicate the experiment, but does not contain information that relates to configuration specific to Plant and Food Research's system. A number of non-critical sanity checks have also been removed for clarity. However, the full workflow is also available in the relevant [github repository](https://github.com/PlantandFoodResearch/bioinf_Vitis_Nicotiana_RNAseq/)"
   ]
  },
  {
   "cell_type": "markdown",
   "metadata": {},
   "source": [
    "## <u>Step I: Establish Data Management Structure on PowerPlant</u>"
   ]
  },
  {
   "cell_type": "code",
   "execution_count": 2,
   "metadata": {
    "collapsed": true
   },
   "outputs": [],
   "source": [
    "# Define the user as a variable\n",
    "USER=\"hradxj\"\n",
    "PROJECTNAME=\"Vitis_Nicotiana_experiment\"\n",
    "# Define the project directory and temp subdirectory as a variable\n",
    "PROJECT=\"/workspace/$USER/$PROJECTNAME\"\n",
    "\n",
    "# Define the location of various subdirectories within PROJECT\n",
    "\n",
    "RAW=$PROJECT/000.raw\n",
    "FASTQC_RAW=$PROJECT/001.fastqc_raw\n",
    "SORTMERNA=$PROJECT/002.SMRNA\n",
    "FASTQC_SORTMERNA=$PROJECT/003.fastqc_smrna\n",
    "TRIMMOMATIC=$PROJECT/004.trimmomatic\n",
    "FASTQC_TRIMMOMATIC=$PROJECT/005.fastqc_trim\n",
    "TEMP=\"$PROJECT/TEMP\""
   ]
  },
  {
   "cell_type": "markdown",
   "metadata": {},
   "source": [
    "### Create analysis directories\n",
    "\n",
    "At this point, we have not actually created any directories... only defined what the directory is going to be called __when__ we create it. We still need to actually create the directories.\n",
    "\n",
    "We use the Unix shell command `mkdir` to create the directories. The switch `-p` suppresses error messages if the directory already exists."
   ]
  },
  {
   "cell_type": "code",
   "execution_count": 28,
   "metadata": {
    "collapsed": true
   },
   "outputs": [],
   "source": [
    "# Create the project directory\n",
    "\n",
    "mkdir -p $PROJECT\n",
    "\n",
    "# Create project subdirectories\n",
    "\n",
    "mkdir -p $RAW\n",
    "mkdir -p $FASTQC_RAW\n",
    "mkdir -p $SORTMERNA\n",
    "mkdir -p $FASTQC_SORTMERNA\n",
    "mkdir -p $TRIMMOMATIC\n",
    "mkdir -p $FASTQC_TRIMMOMATIC\n",
    "mkdir -p $TEMP\n"
   ]
  },
  {
   "cell_type": "code",
   "execution_count": 30,
   "metadata": {
    "collapsed": true
   },
   "outputs": [],
   "source": [
    "# Create symlinks of all input fastq files and put them in $RAW\n",
    "\n",
    "ln -s /input/genomic/viral/metagenomic/170621_150PE_HS4K2A/Almeida/*.fastq.gz $RAW"
   ]
  },
  {
   "cell_type": "code",
   "execution_count": 34,
   "metadata": {
    "collapsed": true
   },
   "outputs": [],
   "source": [
    "# Change filenames to comply with naming requirements for downstream steps\n",
    "FILENAMES=$(ls $RAW)\n",
    "#echo $FILENAMES\n",
    "for FILE in $FILENAMES\n",
    "do\n",
    "NEWFILENAME=$(echo $FILE | sed 's/_001//g')\n",
    "mv $RAW/$FILE $RAW/$NEWFILENAME\n",
    "done"
   ]
  },
  {
   "cell_type": "code",
   "execution_count": 35,
   "metadata": {},
   "outputs": [
    {
     "name": "stdout",
     "output_type": "stream",
     "text": [
      "total 18\n",
      "2 RACP005_11_S11_L002_R1.fastq.gz  2 RACP005_1_S8_L002_R1.fastq.gz\n",
      "2 RACP005_11_S11_L002_R2.fastq.gz  2 RACP005_1_S8_L002_R2.fastq.gz\n",
      "2 RACP005_12_S12_L002_R1.fastq.gz  2 RACP005_5_S9_L002_R1.fastq.gz\n",
      "2 RACP005_12_S12_L002_R2.fastq.gz  2 RACP005_5_S9_L002_R2.fastq.gz\n",
      "2 RACP005_13_S13_L002_R1.fastq.gz  2 RACP005_8_S10_L002_R1.fastq.gz\n",
      "2 RACP005_13_S13_L002_R2.fastq.gz  2 RACP005_8_S10_L002_R2.fastq.gz\n"
     ]
    }
   ],
   "source": [
    "ls -s $RAW\n"
   ]
  },
  {
   "cell_type": "markdown",
   "metadata": {},
   "source": [
    "## <u>Step II Part 1: FastQC RAW Data</u>\n",
    "- The input for this step is the raw data from the provider in FASTQ format\n",
    "- The output from this step are the HTML FASTQC Reports"
   ]
  },
  {
   "cell_type": "code",
   "execution_count": 45,
   "metadata": {
    "collapsed": true
   },
   "outputs": [],
   "source": [
    "# Define the location for the QC reports:\n",
    "OUT=\"${PROJECT}/001.fastqc_raw\"\n",
    "LOG=\"${OUT}/logs\"\n",
    "\n",
    "mkdir -p $LOG\n",
    "\n",
    "# Define the list of files to process:\n",
    "FILES=`ls ${RAW}/*.gz`\n",
    "\n",
    "# Load the FastQC module:\n",
    "module load FastQC\n",
    "\n",
    "for file in $FILES\n",
    "    do\n",
    "        COMMAND=\"fastqc --nogroup -q -t 2 -o ${OUT} ${file}\"\n",
    "        bsub -o ${LOG}/FQC.out -e ${LOG}/FQC.err -J FASTQC -n 2 $COMMAND\n",
    "    done\n"
   ]
  },
  {
   "cell_type": "code",
   "execution_count": 2,
   "metadata": {},
   "outputs": [],
   "source": [
    "# Create multiQC report of FastQC results\n",
    "module load MultiQC;\n",
    "multiqc $OUT -o $OUT"
   ]
  },
  {
   "cell_type": "markdown",
   "metadata": {},
   "source": [
    "The output MultiQC report is available at: https://github.com/PlantandFoodResearch/bioinf_Vitis_Nicotiana_RNAseq/blob/master/multiqc/raw_multiqc_report.html\n",
    "\n",
    "\n",
    "Download the file, save as `.html`, and open in any web browser."
   ]
  },
  {
   "cell_type": "markdown",
   "metadata": {},
   "source": [
    "## <u>Step II Part 2: SortMeRNA</u>\n",
    "* In this step we will remove any rRNA contamination by comparing our reads to 6 databases of known rRNA's\n",
    "* We will capture the rRNA reads in case further investigation is needed\n",
    "* We will output the filtered reads to use for our workflow"
   ]
  },
  {
   "cell_type": "markdown",
   "metadata": {},
   "source": [
    "### Merge (interleave) paired fastq files\n",
    "* The input to this step is the raw data in FASTQ format\n",
    "\n",
    "__NOTE THAT THIS WILL WORK ONLY IF PAIRED FILES END IN \"_R1.fastq.gz\" and \"_R2.fastq.gz\"__\n",
    "\n",
    "* SortMeRNA requires that paired-end files are merged (intereaved) prior to execution\n",
    "* There is a Bash shell script that does this called `merge-paired-reads.sh` in the `/scripts` subdirectory\n",
    "* NOTE! This script can NOT process zipped files!!!\n",
    "  * Therefore, all files must be de-compressed prior to use...\n",
    "  * This is best done with process substitution, using `<(zcat ...)`\n",
    "* The output from this step are interleaved fastq files"
   ]
  },
  {
   "cell_type": "code",
   "execution_count": 1,
   "metadata": {},
   "outputs": [],
   "source": [
    "# Define the location of the various QC programs we will be using,\n",
    "# and the location of SortMeRNA rRNA databases\n",
    "\n",
    "SMRNA=\"/workspace/cflcyd/software/sortmerna-2.1b\"\n",
    "SCRIPTS=\"${SMRNA}/scripts\"\n",
    "DB=\"${SMRNA}/rRNA_databases\"\n",
    "INDEX=\"${SMRNA}/index\"\n",
    "SORTMERNADB=\"${DB}/silva-bac-16s-id90.fasta,\\\n",
    "${INDEX}/silva-bac-16s-db:\\\n",
    "${DB}/silva-bac-23s-id98.fasta,\\\n",
    "${INDEX}/silva-bac-23s-db:\\\n",
    "${DB}/silva-arc-16s-id95.fasta,\\\n",
    "${INDEX}/silva-arc-16s-db:\\\n",
    "${DB}/silva-arc-23s-id98.fasta,\\\n",
    "${INDEX}/silva-arc-23s-db:\\\n",
    "${DB}/silva-euk-18s-id95.fasta,\\\n",
    "${INDEX}/silva-euk-18s-db:\\\n",
    "${DB}/silva-euk-28s-id98.fasta,\\\n",
    "${INDEX}/silva-euk-28s:\\\n",
    "${DB}/rfam-5s-database-id98.fasta,\\\n",
    "${INDEX}/rfam-5s-db:\\\n",
    "${DB}/rfam-5.8s-database-id98.fasta,\\\n",
    "${INDEX}/rfam-5.8s-db\""
   ]
  },
  {
   "cell_type": "code",
   "execution_count": 52,
   "metadata": {
    "collapsed": true
   },
   "outputs": [],
   "source": [
    "# Define the location for the merged files:\n",
    "OUT=\"${PROJECT}/002.SMRNA\"\n",
    "LOG=\"${OUT}/logs\"\n",
    "\n",
    "# Define a set of unique names of the paired files,\n",
    "# but excluding the _R1.fastq.gz and _R2.fastq.gz.\n",
    "# This means that the variable \"FILES\" will consist of a unique name\n",
    "# for each PAIR of paired fastq files. We can then append the \n",
    "# _R1.fastq.gz and _R2.fastq.gz suffix within the loop, to ensure\n",
    "# that each iteration of the loop is working on two correctly paired files.\n",
    "\n",
    "FILES=`basename -a ${RAW}/*.gz | sed 's/_R[1,2].fastq.gz//g'|sort -u `\n",
    "\n",
    "for file in $FILES\n",
    "     do\n",
    "\n",
    "        file1=${file}_R1.fastq.gz\n",
    "        file2=${file}_R2.fastq.gz\n",
    "        COMMAND=\"${SCRIPTS}/Merge.sh \\\n",
    "                <(zcat $RAW/${file1}) \\\n",
    "                <(zcat $RAW/${file2}) \\\n",
    "                ${OUT}/${file}_MERGED.fastq\"\n",
    "        #echo \"$COMMAND\"\n",
    "        bsub -o ${LOG}/MERGE.out -e ${LOG}/MERGE.err -J MERGE bash -c \"${COMMAND}\"\n",
    "     done\n",
    "\n",
    "### Note that the bash -c is needed to open a proper bash shell\n",
    "### (instead of a bourne shell) for the processes substitution to work with OpenLava ###"
   ]
  },
  {
   "cell_type": "markdown",
   "metadata": {},
   "source": [
    "### Run the Main SortMeRNA Program\n",
    "* This is what actually does the sorting\n",
    "* The input to this step are the merged fastq files\n",
    "* The output are the rRNA matches and the filtered raw reads in interleaved fastq format"
   ]
  },
  {
   "cell_type": "code",
   "execution_count": 3,
   "metadata": {},
   "outputs": [],
   "source": [
    "# # Define the location for the input and output files:\n",
    "IN=\"${PROJECT}/002.SMRNA\"\n",
    "OUT=\"${PROJECT}/002.SMRNA\"\n",
    "FILTERED=\"${OUT}/filtered/merged\"\n",
    "rRNA=\"${OUT}/rRNA\"\n",
    "LOG=\"${OUT}/logs\"\n",
    "\n",
    "mkdir -p $rRNA\n",
    "mkdir -p $LOG\n",
    "mkdir -p $FILTERED\n",
    "\n",
    "FILES=`ls ${IN}/*_MERGED.fastq`\n",
    "\n",
    "for file in $FILES\n",
    "    do\n",
    "        NAME=`basename $file`\n",
    "        COMMAND=\"${SMRNA}/sortmerna --ref ${SORTMERNADB} --reads ${file} \\\n",
    "                --paired_in -a 4 -m 3911 -v --log --fastx \\\n",
    "                --aligned ${rRNA}/${NAME}_rRNA \\\n",
    "                --other ${FILTERED}/${NAME}_sortmerna\"\n",
    "        bsub -o ${LOG}/${NAME}.out -e ${LOG}/${NAME}.err -J SMRNA -n 4 $COMMAND\n",
    "     done"
   ]
  },
  {
   "cell_type": "raw",
   "metadata": {},
   "source": [
    " Results:\n",
    "    Total reads = 26,184,138\n",
    "    Total reads passing E-value threshold = 225,953 (0.86%)\n",
    "    Total reads failing E-value threshold = 25,958,185 (99.14%)\n",
    "    Minimum read length = 100\n",
    "    Maximum read length = 100\n",
    "    Mean read length = 100\n",
    " By database:\n",
    "    /workspace/cflcyd/software/sortmerna-2.1b/rRNA_databases/silva-bac-16s-id90.fasta\t\t    0.20%\n",
    "    /workspace/cflcyd/software/sortmerna-2.1b/rRNA_databases/silva-bac-23s-id98.fasta\t\t    0.07%\n",
    "    /workspace/cflcyd/software/sortmerna-2.1b/rRNA_databases/silva-arc-16s-id95.fasta\t\t    0.00%\n",
    "    /workspace/cflcyd/software/sortmerna-2.1b/rRNA_databases/silva-arc-23s-id98.fasta\t\t    0.00%\n",
    "    /workspace/cflcyd/software/sortmerna-2.1b/rRNA_databases/silva-euk-18s-id95.fasta\t\t    0.34%\n",
    "    /workspace/cflcyd/software/sortmerna-2.1b/rRNA_databases/silva-euk-28s-id98.fasta\t\t    0.25%\n",
    "    /workspace/cflcyd/software/sortmerna-2.1b/rRNA_databases/rfam-5s-database-id98.fasta\t\t0.00%\n",
    "    /workspace/cflcyd/software/sortmerna-2.1b/rRNA_databases/rfam-5.8s-database-id98.fasta\t\t0.00%\n"
   ]
  },
  {
   "cell_type": "markdown",
   "metadata": {},
   "source": [
    "### Un-merge (de-interleave) the filtered fastq files\n",
    "* The other programs in our workflow use standard non-interleaved files, so we unmerge them.\n",
    "* The input is the merged fastq files\n",
    "* The output are the unmerged fastq files"
   ]
  },
  {
   "cell_type": "code",
   "execution_count": 4,
   "metadata": {},
   "outputs": [],
   "source": [
    "IN=\"${PROJECT}/002.SMRNA/filtered/merged\"\n",
    "OUT=\"${PROJECT}/002.SMRNA/filtered\"\n",
    "\n",
    "FILENAMES=`ls ${IN}/*sortmerna*`\n",
    "\n",
    "for file in $FILENAMES\n",
    "     do\n",
    "        # echo $file\n",
    "        NAME=`basename $file`\n",
    "        PREFIX=`echo $NAME | awk -F'[. ]' '{print $1}'`\n",
    "        #echo $PREFIX\n",
    "        file1=${OUT}/${PREFIX}_R1.fastq\n",
    "        file2=${OUT}/${PREFIX}_R2.fastq\n",
    "        COMMAND=\"${SCRIPTS}/Unmerge.sh $file $file1 $file2\"\n",
    "       # echo $COMMAND\n",
    "        bsub -J UNMERGE -n 3 ${COMMAND}\n",
    "     done\n"
   ]
  },
  {
   "cell_type": "code",
   "execution_count": 56,
   "metadata": {
    "collapsed": true
   },
   "outputs": [],
   "source": [
    "# Remove merged files\n",
    "rm -rf ${PROJECT}/002.SMRNA/filtered/merged/*"
   ]
  },
  {
   "cell_type": "markdown",
   "metadata": {},
   "source": [
    "## <u>Step II Part 3: FastQC SortMeRNA Filtered Output</u>\n",
    "* We now verify that we did not break anything and re-check the quality of our reads after sorting\n",
    "* The input for this step is the filtered data from SortMeRNA in FASTQ format\n",
    "* The output from this step are the HTML FastQC Reports"
   ]
  },
  {
   "cell_type": "code",
   "execution_count": 5,
   "metadata": {},
   "outputs": [],
   "source": [
    "IN=\"${PROJECT}/002.SMRNA/filtered\"\n",
    "OUT=\"${PROJECT}/003.fastqc_smrna\"\n",
    "LOG=\"${OUT}/logs\"\n",
    "\n",
    "# Get the files to check:\n",
    "FILES=`ls ${IN}/*.fastq`\n",
    "#echo $FILES\n",
    "\n",
    "# Load the FastQC module:\n",
    "module load FastQC\n",
    "\n",
    "for file in $FILES\n",
    "    do\n",
    "        COMMAND=\"fastqc --nogroup -q -t 2 -o ${OUT} ${file}\"\n",
    "        bsub -o ${LOG}/FQC.out -e ${LOG}/FQC.err -J FASTQC -n 2 $COMMAND\n",
    "    done\n"
   ]
  },
  {
   "cell_type": "code",
   "execution_count": 6,
   "metadata": {},
   "outputs": [],
   "source": [
    "# Create multiQC report of FastQC results\n",
    "module load MultiQC;\n",
    "multiqc $OUT -o $OUT"
   ]
  },
  {
   "cell_type": "markdown",
   "metadata": {},
   "source": [
    "The output MultiQC report is available at: https://github.com/PlantandFoodResearch/bioinf_Vitis_Nicotiana_RNAseq/blob/master/multiqc/rRNA_removed_multiqc_report.html\n",
    "\n",
    "\n",
    "Download the file, save as `.html`, and open in any web browser."
   ]
  },
  {
   "cell_type": "markdown",
   "metadata": {},
   "source": [
    "## <u>Step II Part 4: TRIMMOMATIC</u>\n",
    "* Now that the reads are filtered, we will remove adapters, over-represented sequences, and poor-quality bases from the reads\n",
    "* The command specifies that bases with quality scores less than 30 will be clipped\n",
    "* Also, after clipping, the min length for a read will be 50 bp\n",
    "* The `Illumina.fa` file contains the TruSeq adapter sequences and homo-polymer sequences to clip\n",
    "  * This file needs to be edited to contain the appropriate sequences.\n",
    "* The input for this step are the SortMeRNA filtered reads\n",
    "* The output are the trimmed reads"
   ]
  },
  {
   "cell_type": "code",
   "execution_count": 7,
   "metadata": {},
   "outputs": [],
   "source": [
    "# Run the Trimmomatic program on the filtered data to remove Illumina adapters, homo-polymers, and low quality reads:\n",
    "  # Note that to do this, it is necessary to edit the file containing the adapter sequences\n",
    "  # to include all sequences that you wish to remove:\n",
    "  # This file is called Illumina.fa and is in the 000.raw directory.\n",
    "\n",
    "IN=\"${PROJECT}/002.SMRNA/filtered\"\n",
    "OUT=\"${PROJECT}/004.trimmomatic\"\n",
    "UNPAIRED=\"${OUT}/unpaired\"\n",
    "LOG=\"${OUT}/logs\"\n",
    "\n",
    "mkdir -p $IN\n",
    "mkdir -p $OUT\n",
    "mkdir -p $UNPAIRED\n",
    "mkdir -p $LOG\n",
    "\n",
    "# Set the path to the adapter file:\n",
    "CLIP=\"${PROJECT}/Illumina.fa\"\n",
    "\n",
    "# Get the files to trim:\n",
    "# Use echo statements to be sure that the results from awk are what you really want...\n",
    "FILES=`basename -a ${IN}/*.fastq | sed 's/_R[1,2].fastq//g'|sort -u `\n",
    "\n",
    "module load Trimmomatic\n",
    "\n",
    "for FILE in $FILES\n",
    "     do\n",
    "        In_File1=${IN}/${FILE}_R1.fastq\n",
    "        In_File2=${IN}/${FILE}_R2.fastq\n",
    "        Out_PAIRED_1=${OUT}/${FILE}_trimmomatic_R1.fastq\n",
    "        Out_UNPAIRED_1=${UNPAIRED}/${FILE}_trimmomatic_unpaired_1.fastq\n",
    "        Out_PAIRED_2=${OUT}/${FILE}_trimmomatic_R2.fastq\n",
    "        Out_UNPAIRED_2=${UNPAIRED}/${FILE}_trimmomatic_unpaired_2.fastq\n",
    "        COMMAND=\"java -jar -Xms8G -Xmx8G \\\n",
    "                 ${TRIMMOMATIC} PE -threads 3 \\\n",
    "                 ${In_File1} ${In_File2} \\\n",
    "                 ${Out_PAIRED_1} ${Out_UNPAIRED_1} ${Out_PAIRED_2} ${Out_UNPAIRED_2} \\\n",
    "                 ILLUMINACLIP:${CLIP}:2:30:10 SLIDINGWINDOW:5:20 MINLEN:50\"\n",
    "        bsub -o ${LOG}/${PREFIX}.out -e ${LOG}/${PREFIX}.err -J TRIM -n 3 $COMMAND\n",
    "     done\n",
    "\n",
    "# It is critical to set the -X settings for Java for the program to run correctly\n",
    "# Here, the VM is instantiated with 8GB of heap space, with a max of 8GB...\n"
   ]
  },
  {
   "cell_type": "markdown",
   "metadata": {},
   "source": [
    "### Results Summary:\n",
    "* ILLUMINACLIP: Using 1 prefix pairs, 8 forward/reverse sequences, 0 forward only sequences, 0 reverse only sequences\n",
    "* Quality encoding detected as phred33\n",
    "* Input Read Pairs: 12,928,498 \n",
    "* Both Surviving: 11,702,894 (90.52%) \n",
    "* Forward Only Surviving: 570,865 (4.42%) \n",
    "* Reverse Only Surviving: 181,229 (1.40%) \n",
    "* Dropped: 473,510 (3.66%)\n",
    "* So we have over 90% of reads passing our criteria!\n"
   ]
  },
  {
   "cell_type": "markdown",
   "metadata": {},
   "source": [
    "## <u>Step II Part 5: FASTQC of TRIMMED READS</u>\n",
    "* We now verify that we did not break anything and re-check the quality of our reads after trimming\n",
    "* The input for this step are the filtered trimmed reads in FASTQ format\n",
    "* The output from this step are the HTML Reports"
   ]
  },
  {
   "cell_type": "code",
   "execution_count": 8,
   "metadata": {},
   "outputs": [],
   "source": [
    "IN=\"${PROJECT}/004.trimmomatic\"\n",
    "OUT=\"${PROJECT}/005.fastqc_trim\"\n",
    "LOG=\"${OUT}/logs\"\n",
    "\n",
    "# Get the files to check:\n",
    "FILES=`ls ${IN}/*trimmomatic*`\n",
    "\n",
    "# Load the FastQC module:\n",
    "module load FastQC\n",
    "\n",
    "for file in $FILES\n",
    "    do\n",
    "        COMMAND=\"fastqc --nogroup -q -t 2 -o ${OUT} ${file}\"\n",
    "        bsub -o ${LOG}/FQC.out -e ${LOG}/FQC.err -J FASTQC -n 2 $COMMAND\n",
    "    done"
   ]
  },
  {
   "cell_type": "code",
   "execution_count": 9,
   "metadata": {},
   "outputs": [],
   "source": [
    "# # Create multiQC report of FastQC results\n",
    "module load MultiQC;\n",
    "multiqc $OUT -o $OUT;\n",
    "module unload MultiQC;"
   ]
  },
  {
   "cell_type": "markdown",
   "metadata": {},
   "source": [
    "The output MultiQC report is available at: https://github.com/PlantandFoodResearch/bioinf_Vitis_Nicotiana_RNAseq/blob/master/multiqc/rRNA_removed_trimmed_multiqc_report.html\n",
    "\n",
    "Download the file, save as `.html`, and open in any web browser.\n"
   ]
  },
  {
   "cell_type": "markdown",
   "metadata": {},
   "source": [
    "Minor adaptor contamination in R1 reads. This was successfully removed, which you can see when comparing the pre- and post- trimmomatic MultiQC reports."
   ]
  },
  {
   "cell_type": "code",
   "execution_count": 11,
   "metadata": {},
   "outputs": [
    {
     "name": "stdout",
     "output_type": "stream",
     "text": [
      "[NbConvertApp] Converting notebook /workspace/hradxj/bioinf_Vitis_Nicotiana_RNAseq/01_RNAseq_Quality_Control_Vitis_Nicotiana-Manuscript.ipynb to markdown\n",
      "[NbConvertApp] Writing 14295 bytes to /workspace/hradxj/bioinf_Vitis_Nicotiana_RNAseq/01_RNAseq_Quality_Control_Vitis_Nicotiana-Manuscript.md\n",
      "[NbConvertApp] Converting notebook /workspace/hradxj/bioinf_Vitis_Nicotiana_RNAseq/01_RNAseq_Quality_Control_Vitis_Nicotiana-Manuscript.ipynb to html\n",
      "[NbConvertApp] Writing 293356 bytes to /workspace/hradxj/bioinf_Vitis_Nicotiana_RNAseq/01_RNAseq_Quality_Control_Vitis_Nicotiana-Manuscript.html\n"
     ]
    }
   ],
   "source": [
    "# Render notebook to html and markdown\n",
    "module load pfr-python3\n",
    "jupyter nbconvert --to markdown /workspace/$USER/bioinf_Vitis_Nicotiana_RNAseq/01_RNAseq_Quality_Control_Vitis_Nicotiana-Manuscript.ipynb\n",
    "jupyter nbconvert --to html /workspace/$USER/bioinf_Vitis_Nicotiana_RNAseq/01_RNAseq_Quality_Control_Vitis_Nicotiana-Manuscript.ipynb\n",
    "module unload pfr-python3"
   ]
  }
 ],
 "metadata": {
  "kernelspec": {
   "display_name": "Bash",
   "language": "bash",
   "name": "bash"
  },
  "language_info": {
   "codemirror_mode": "shell",
   "file_extension": ".sh",
   "mimetype": "text/x-sh",
   "name": "bash"
  }
 },
 "nbformat": 4,
 "nbformat_minor": 1
}
